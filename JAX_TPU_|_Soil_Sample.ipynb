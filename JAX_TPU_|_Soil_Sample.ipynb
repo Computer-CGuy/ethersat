{
  "nbformat": 4,
  "nbformat_minor": 0,
  "metadata": {
    "colab": {
      "name": "JAX TPU | Soil Sample.ipynb",
      "provenance": [],
      "collapsed_sections": [],
      "authorship_tag": "ABX9TyNHuCsYIO0xo1xz0sNpoNpO",
      "include_colab_link": true
    },
    "kernelspec": {
      "name": "python3",
      "display_name": "Python 3"
    },
    "language_info": {
      "name": "python"
    },
    "accelerator": "TPU"
  },
  "cells": [
    {
      "cell_type": "markdown",
      "metadata": {
        "id": "view-in-github",
        "colab_type": "text"
      },
      "source": [
        "<a href=\"https://colab.research.google.com/github/Computer-CGuy/etherpaisahipaisa/blob/master/JAX_TPU_%7C_Soil_Sample.ipynb\" target=\"_parent\"><img src=\"https://colab.research.google.com/assets/colab-badge.svg\" alt=\"Open In Colab\"/></a>"
      ]
    },
    {
      "cell_type": "markdown",
      "metadata": {
        "id": "KSbBrW0HwvI6"
      },
      "source": [
        ""
      ]
    },
    {
      "cell_type": "code",
      "metadata": {
        "id": "TJ-6xW0Bz33e"
      },
      "source": [
        "import jax.tools.colab_tpu\n",
        "jax.tools.colab_tpu.setup_tpu()"
      ],
      "execution_count": 1,
      "outputs": []
    },
    {
      "cell_type": "code",
      "metadata": {
        "colab": {
          "base_uri": "https://localhost:8080/"
        },
        "id": "7hKXWVg_1st2",
        "outputId": "c11fb6f0-c0c9-4409-858d-e42d4cb23773"
      },
      "source": [
        "import jax\n",
        "jax.devices()"
      ],
      "execution_count": 2,
      "outputs": [
        {
          "output_type": "execute_result",
          "data": {
            "text/plain": [
              "[TpuDevice(id=0, process_index=0, coords=(0,0,0), core_on_chip=0),\n",
              " TpuDevice(id=1, process_index=0, coords=(0,0,0), core_on_chip=1),\n",
              " TpuDevice(id=2, process_index=0, coords=(1,0,0), core_on_chip=0),\n",
              " TpuDevice(id=3, process_index=0, coords=(1,0,0), core_on_chip=1),\n",
              " TpuDevice(id=4, process_index=0, coords=(0,1,0), core_on_chip=0),\n",
              " TpuDevice(id=5, process_index=0, coords=(0,1,0), core_on_chip=1),\n",
              " TpuDevice(id=6, process_index=0, coords=(1,1,0), core_on_chip=0),\n",
              " TpuDevice(id=7, process_index=0, coords=(1,1,0), core_on_chip=1)]"
            ]
          },
          "metadata": {
            "tags": []
          },
          "execution_count": 2
        }
      ]
    },
    {
      "cell_type": "code",
      "metadata": {
        "id": "aiIWkI8XOsDL"
      },
      "source": [
        "import numpy as np\n",
        "\n",
        "# We only need to import JAX's xla_client, not all of JAX.\n",
        "from jax.lib import xla_client as xc\n",
        "from jax.lib import xla_bridge as xb\n",
        "xops = xc.ops"
      ],
      "execution_count": 3,
      "outputs": []
    },
    {
      "cell_type": "code",
      "metadata": {
        "colab": {
          "base_uri": "https://localhost:8080/"
        },
        "id": "oMwHqAn3RlVl",
        "outputId": "7d81fa9f-db5b-4b97-9169-12fc57b54ad5"
      },
      "source": [
        "xb._get_tpu_driver_backend(\"tpu\")"
      ],
      "execution_count": null,
      "outputs": [
        {
          "output_type": "execute_result",
          "data": {
            "text/plain": [
              "<jaxlib.tpu_client_extension.TpuClient at 0x7fb4f50e27f0>"
            ]
          },
          "metadata": {
            "tags": []
          },
          "execution_count": 4
        }
      ]
    },
    {
      "cell_type": "code",
      "metadata": {
        "id": "UBNl5nKQRy2P"
      },
      "source": [
        "y = x+x"
      ],
      "execution_count": null,
      "outputs": []
    },
    {
      "cell_type": "code",
      "metadata": {
        "id": "mu-pMlV3WWKd"
      },
      "source": [
        "def timed(runer,args,rate=False,batch=1):\n",
        "    import time\n",
        "    t0 = time.time()\n",
        "    # print(runer(args))\n",
        "    ret = runer(args)\n",
        "    # for x in range(1):\n",
        "        \n",
        "    #     args = runer(args)\n",
        "    #     print(args)\n",
        "    t1 = time.time()\n",
        "    if(rate):\n",
        "        print(f\"{batch/((t1-t0)):,}\")\n",
        "        return ret\n",
        "    print(f\"{(t1-t0):,}s\")\n",
        "    return ret"
      ],
      "execution_count": 4,
      "outputs": []
    },
    {
      "cell_type": "code",
      "metadata": {
        "colab": {
          "base_uri": "https://localhost:8080/"
        },
        "id": "PfgApqk9XNAZ",
        "outputId": "3e6d9f9a-c3f2-4871-b505-da2a7fca80f0"
      },
      "source": [
        "(np.random.randn(5)*batch).astype(dtype=np.uint64)"
      ],
      "execution_count": null,
      "outputs": [
        {
          "output_type": "execute_result",
          "data": {
            "text/plain": [
              "array([             6575798, 18446744073695788334,             16864771,\n",
              "                    6378636,              3508388], dtype=uint64)"
            ]
          },
          "metadata": {
            "tags": []
          },
          "execution_count": 61
        }
      ]
    },
    {
      "cell_type": "code",
      "metadata": {
        "colab": {
          "base_uri": "https://localhost:8080/"
        },
        "id": "lVDvvbkj162b",
        "outputId": "0eb5017d-a37c-4aea-a524-bb9a94e3bec1"
      },
      "source": [
        "xc.get_local_backend(\"cpu\")"
      ],
      "execution_count": null,
      "outputs": [
        {
          "output_type": "execute_result",
          "data": {
            "text/plain": [
              "<jaxlib.xla_extension.Client at 0x7f9d10272f70>"
            ]
          },
          "metadata": {
            "tags": []
          },
          "execution_count": 18
        }
      ]
    },
    {
      "cell_type": "code",
      "metadata": {
        "id": "PWCiLAa_UrWS"
      },
      "source": [
        "\n",
        "def run(c,batch=1,build=None):\n",
        "    global dtype\n",
        "    global compiled_computation\n",
        "    global cpu_backend\n",
        "    global ROUNDS\n",
        "    # your notebook kernel to crash!\n",
        "    # # get a cpu backend\n",
        "    # cpu_backend = xc.get_local_backend(\"cpu\")\n",
        "    cpu_backend = xb._get_tpu_driver_backend(\"tpu\")\n",
        "\n",
        "    if(not build):\n",
        "        computation = c.Build()\n",
        "    else:\n",
        "        computation = build\n",
        "    \n",
        "    # # compile graph based on shape\n",
        "    compiled_computation = cpu_backend.compile(computation)\n",
        "\n",
        "    # if(batch==1):\n",
        "    #     As = np.array(1, dtype=dtype)\n",
        "    # else:\n",
        "        # As = np.random.randn(batch,dtype=unint64)\n",
        "        # As = np.zeros(batch, dtype=np.uint64)\n",
        "        # As = (np.random.randn(batch)*3000).astype(dtype=dtype)\n",
        "    As = np.random.randint(0,batch,(25,batch),dtype=dtype)\n",
        "    # print(As)\n",
        "    state = [cpu_backend.buffer_from_pyval(np.int32(ROUNDS))]\n",
        "    print(\"Evalving\")\n",
        "    for x in range(25):\n",
        "        state.append(cpu_backend.buffer_from_pyval(As[x]))\n",
        "    print(\"Started\")\n",
        "    out = timed(compiled_computation.execute,state,rate=True,batch=batch)\n",
        "    print(out[0])\n",
        "    # timed(compiled_computation.execute,state,rate=True,batch=batch)\n",
        "    # print(state)\n",
        "    # device_out = compiled_computation.execute(state)\n",
        "    # print(device_out)"
      ],
      "execution_count": 6,
      "outputs": []
    },
    {
      "cell_type": "code",
      "metadata": {
        "id": "8zINQ8tYlsw_"
      },
      "source": [
        "As = [np.random.randint(0,batch,batch,dtype=dtype) for x in range(25)]"
      ],
      "execution_count": null,
      "outputs": []
    },
    {
      "cell_type": "code",
      "metadata": {
        "id": "F1dWHexAluD_",
        "colab": {
          "base_uri": "https://localhost:8080/"
        },
        "outputId": "c769f086-17eb-4a29-a258-59ac6f82cff0"
      },
      "source": [
        "type(np.int32(0))"
      ],
      "execution_count": null,
      "outputs": [
        {
          "output_type": "execute_result",
          "data": {
            "text/plain": [
              "numpy.int32"
            ]
          },
          "metadata": {
            "tags": []
          },
          "execution_count": 89
        }
      ]
    },
    {
      "cell_type": "code",
      "metadata": {
        "id": "zElEse2ElDaD",
        "colab": {
          "base_uri": "https://localhost:8080/"
        },
        "outputId": "f9d505c4-c263-44e1-d925-434d7fd910a7"
      },
      "source": [
        "from jax import device_put\n",
        "\n",
        "x = np.random.normal(size=(10, 10)).astype(np.float32)\n",
        "x = device_put(x)"
      ],
      "execution_count": 4,
      "outputs": [
        {
          "output_type": "stream",
          "text": [
            "WARNING:absl:No GPU/TPU found, falling back to CPU. (Set TF_CPP_MIN_LOG_LEVEL=0 and rerun for more info.)\n"
          ],
          "name": "stderr"
        }
      ]
    },
    {
      "cell_type": "code",
      "metadata": {
        "colab": {
          "base_uri": "https://localhost:8080/",
          "height": 197
        },
        "id": "VTUR9oJWlF1F",
        "outputId": "4a7bb498-cc29-43ad-97fa-76ff3d0a7a09"
      },
      "source": [
        "import jax.numpy as jnp\n",
        "# jnp.ran\n",
        "# jnp.randint(0,10000,(100,100))"
      ],
      "execution_count": null,
      "outputs": [
        {
          "output_type": "error",
          "ename": "AttributeError",
          "evalue": "ignored",
          "traceback": [
            "\u001b[0;31m---------------------------------------------------------------------------\u001b[0m",
            "\u001b[0;31mAttributeError\u001b[0m                            Traceback (most recent call last)",
            "\u001b[0;32m<ipython-input-17-53561c535f3d>\u001b[0m in \u001b[0;36m<module>\u001b[0;34m()\u001b[0m\n\u001b[1;32m      1\u001b[0m \u001b[0;32mimport\u001b[0m \u001b[0mjax\u001b[0m\u001b[0;34m.\u001b[0m\u001b[0mnumpy\u001b[0m \u001b[0;32mas\u001b[0m \u001b[0mjnp\u001b[0m\u001b[0;34m\u001b[0m\u001b[0;34m\u001b[0m\u001b[0m\n\u001b[1;32m      2\u001b[0m \u001b[0;34m\u001b[0m\u001b[0m\n\u001b[0;32m----> 3\u001b[0;31m \u001b[0mjnp\u001b[0m\u001b[0;34m.\u001b[0m\u001b[0mrandint\u001b[0m\u001b[0;34m(\u001b[0m\u001b[0;36m0\u001b[0m\u001b[0;34m,\u001b[0m\u001b[0;36m10000\u001b[0m\u001b[0;34m,\u001b[0m\u001b[0;34m(\u001b[0m\u001b[0;36m100\u001b[0m\u001b[0;34m,\u001b[0m\u001b[0;36m100\u001b[0m\u001b[0;34m)\u001b[0m\u001b[0;34m)\u001b[0m\u001b[0;34m\u001b[0m\u001b[0;34m\u001b[0m\u001b[0m\n\u001b[0m",
            "\u001b[0;31mAttributeError\u001b[0m: module 'jax.numpy' has no attribute 'randint'"
          ]
        }
      ]
    },
    {
      "cell_type": "code",
      "metadata": {
        "id": "lOJ9w90eX9mF"
      },
      "source": [
        "def index(x,y):\n",
        "    return (((x)%5)+5*((y)%5))"
      ],
      "execution_count": 7,
      "outputs": []
    },
    {
      "cell_type": "code",
      "metadata": {
        "id": "dLkgiLS4Z1bZ"
      },
      "source": [
        "def update(l):\n",
        "    l[0]=1\n",
        "    return l"
      ],
      "execution_count": 8,
      "outputs": []
    },
    {
      "cell_type": "code",
      "metadata": {
        "id": "9ygCOIjiZZtA"
      },
      "source": [
        "def listRoll(a):\n",
        "    ret = []\n",
        "    for i in range(5):\n",
        "        x = a[(i+1)%5]\n",
        "        ret.append(xops.Not(xops.Or(xops.Div(x,Template),xops.Mul(x,Template))))\n",
        "    return ret"
      ],
      "execution_count": 9,
      "outputs": []
    },
    {
      "cell_type": "code",
      "metadata": {
        "id": "KTimeSNugG_F"
      },
      "source": [
        "def push(l,p):\n",
        "    n = len(l)\n",
        "    if(p==1):\n",
        "        temp = l[0]\n",
        "        for x in range(n):\n",
        "            l[x] = l[(x+1)%n]\n",
        "        l[n-1] = temp"
      ],
      "execution_count": 10,
      "outputs": []
    },
    {
      "cell_type": "code",
      "metadata": {
        "id": "OkaqXWxLb-4b"
      },
      "source": [
        "def rearrange(l,a):\n",
        "    n = len(l)\n",
        "    temp = [0 for x in range(n)]\n",
        "    for x in range(n):\n",
        "        temp[x] = l[x]\n",
        "    for x in range(n):\n",
        "        state[x] = temp[a[x]]"
      ],
      "execution_count": 11,
      "outputs": []
    },
    {
      "cell_type": "code",
      "metadata": {
        "id": "AeboFS_MctWX"
      },
      "source": [
        "def ROL64(a,offset):\n",
        "    return xops.Xor(xops.Mul(a,offset[0]),xops.Div(a,offset[0]))\n",
        "def rhoROL64(a):\n",
        "    for i in range(len(a)):\n",
        "        a[i] = ROL64(a[i],[Template,Template])"
      ],
      "execution_count": 12,
      "outputs": []
    },
    {
      "cell_type": "code",
      "metadata": {
        "id": "VsUfEodWkz5A"
      },
      "source": [
        "dtype = np.int32"
      ],
      "execution_count": 13,
      "outputs": []
    },
    {
      "cell_type": "code",
      "metadata": {
        "id": "P-orjJgmRxiA",
        "colab": {
          "base_uri": "https://localhost:8080/"
        },
        "outputId": "fa5fd593-d6d1-42fe-ba7a-d746690042fa"
      },
      "source": [
        "miner = xc.XlaBuilder(\"Main Function\")\n",
        "batch=1000000\n",
        "print(f\"{batch:,}\")\n",
        "# batch=1\n",
        "# Constants\n",
        "KeccakRoundConstants = [xops.Constant(miner, dtype(0x000000000000800A))]\n",
        "Template = xops.Constant(miner, dtype(12312123213))\n",
        "\n",
        "pi_shifter = [0, 6, 12, 18, 24, 3, 9, 10, 16, 22, 1, 7, 13, 19, 20, 4, 5, 11, 17, 23, 2, 8, 14, 15, 21]\n",
        "\n",
        "param_shape = xc.Shape.array_shape(np.dtype(dtype),(batch,))\n",
        "param_shape2 = xc.Shape.array_shape(np.dtype(dtype),())\n",
        "\n",
        "state = [param_shape2]+[xc.Shape.array_shape(np.dtype(dtype),(batch,)) for x in range(25)]\n",
        "\n",
        "in_tuple_shape = xc.Shape.tuple_shape(state)\n",
        "# Custom Constants\n",
        "tup = xops.Parameter(miner,0,in_tuple_shape)\n",
        "\n",
        "ROUND = xops.GetTupleElement(tup,0)\n",
        "ROUND = xops.Sub(ROUND,xops.Constant(miner, np.int32(1)))\n",
        "\n",
        "state = []\n",
        "for x in range(25):\n",
        "    state.append(xops.GetTupleElement(tup,x+1))\n",
        "\n",
        "C = [0 for x in range(5)]\n",
        "\n",
        "# Theta Function\n",
        "for x in range(5):\n",
        "    C[x] = state[index(x,0)]\n",
        "    for y in range(1,5):\n",
        "        C[x]=xops.Xor(state[index(x,y)],C[x])\n",
        "D = listRoll(C)\n",
        "# push(C,1)\n",
        "for x in range(5):\n",
        "    for y in range(5):\n",
        "        state[index(x,y)]=xops.Xor(state[index(x,y)],xops.Xor(D[(x+1)%5],C[(x+4)%5]))\n",
        "# print(state)\n",
        "\n",
        "# Rho Function\n",
        "rhoROL64(state)\n",
        "# print(state)\n",
        "# Pi Function\n",
        "\n",
        "rearrange(state,pi_shifter)\n",
        "# print(state)\n",
        "# Chi Function\n",
        "\n",
        "for y in range(5):\n",
        "    for x in range(5):\n",
        "        C[x] = xops.And(xops.Xor(state[index(x, y)],xops.Not((state[index(x+1, y)]))),state[index(x+2, y)])\n",
        "    for x in range(5):\n",
        "        state[index(x,y)] = C[x]\n",
        "\"\"\"# print(state)\n",
        "# Iota\n",
        "state[0]=xops.Xor(state[0],KeccakRoundConstants[0])\n",
        "# print(state)\n",
        "\n",
        "# Output\n",
        "\"\"\"\n",
        "state[0]=xops.Xor(state[0],KeccakRoundConstants[0])\n",
        "# out = xops.Tuple(miner,[ROUND,xops.Tuple(miner,state)])\n",
        "xops.Tuple(miner,[ROUND]+state)\n",
        "body_computation = miner.build()\n",
        "# run(miner,batch=batch)"
      ],
      "execution_count": 39,
      "outputs": [
        {
          "output_type": "stream",
          "text": [
            "1,000,000\n"
          ],
          "name": "stdout"
        }
      ]
    },
    {
      "cell_type": "code",
      "metadata": {
        "id": "SEnp10dZcEyI"
      },
      "source": [
        "ROUNDS = 24"
      ],
      "execution_count": 44,
      "outputs": []
    },
    {
      "cell_type": "code",
      "metadata": {
        "id": "QvAJySJkxdXm"
      },
      "source": [
        "# test computation:\n",
        "tcb = xc.XlaBuilder(\"testcomp\")\n",
        "tup = xops.Parameter(tcb, 0, in_tuple_shape)\n",
        "x = xops.GetTupleElement(tup,0)\n",
        "\n",
        "const0 = xops.Constant(tcb, np.int32(0))\n",
        "y = xops.Gt(x, const0)\n",
        "test_computation = tcb.Build()"
      ],
      "execution_count": 40,
      "outputs": []
    },
    {
      "cell_type": "code",
      "metadata": {
        "id": "zx0xOmYfbs55"
      },
      "source": [
        "wcb = xc.XlaBuilder(\"whilecomp\")\n",
        "counter = xops.Parameter(wcb, 0, param_shape2)\n",
        "records = [counter]\n",
        "for x in range(25):\n",
        "    records.append(xops.Parameter(wcb, x+1, param_shape))\n",
        "\n",
        "# mixedTuple = xc.Shape.Tuple(counter,xc.Shape.tuple_shape(x))\n",
        "res = xops.Tuple(wcb,records)\n",
        "# res = xops.Tuple(wcb,[counter,b])\n",
        "xops.While(test_computation, body_computation, res)\n",
        "wc = wcb.build()"
      ],
      "execution_count": 41,
      "outputs": []
    },
    {
      "cell_type": "code",
      "metadata": {
        "id": "lfvOf5RJqJHi",
        "colab": {
          "base_uri": "https://localhost:8080/"
        },
        "outputId": "d8923871-80d5-4448-808d-79bf3a3f760c"
      },
      "source": [
        "run(wcb,batch=batch,build=wc)\n",
        "# Rounds 24"
      ],
      "execution_count": 45,
      "outputs": [
        {
          "output_type": "stream",
          "text": [
            "Evalving\n",
            "Started\n",
            "1,020,235.1430208107\n",
            "<jaxlib.tpu_client_extension.PyTpuBuffer object at 0x7f8f66ea4cf0>\n"
          ],
          "name": "stdout"
        }
      ]
    },
    {
      "cell_type": "code",
      "metadata": {
        "colab": {
          "base_uri": "https://localhost:8080/"
        },
        "id": "X-7CuipMhL_W",
        "outputId": "21b4ac6a-2556-49d3-9879-063d9af0efe3"
      },
      "source": [
        "run(wcb,batch=batch,build=wc)\n",
        "# Rounds 1"
      ],
      "execution_count": 42,
      "outputs": [
        {
          "output_type": "stream",
          "text": [
            "Evalving\n",
            "Started\n",
            "1,099,405.0694260416\n",
            "<jaxlib.tpu_client_extension.PyTpuBuffer object at 0x7f8f4e40cdf0>\n"
          ],
          "name": "stdout"
        }
      ]
    },
    {
      "cell_type": "code",
      "metadata": {
        "colab": {
          "base_uri": "https://localhost:8080/",
          "height": 282
        },
        "id": "Wn7X4J6rhAXj",
        "outputId": "f32cf51c-dfdc-4e64-81ef-8e0dd01b77be"
      },
      "source": [
        "run(miner,batch=batch)"
      ],
      "execution_count": null,
      "outputs": [
        {
          "output_type": "error",
          "ename": "RuntimeError",
          "evalue": "ignored",
          "traceback": [
            "\u001b[0;31m---------------------------------------------------------------------------\u001b[0m",
            "\u001b[0;31mRuntimeError\u001b[0m                              Traceback (most recent call last)",
            "\u001b[0;32m<ipython-input-156-7ca9498b113d>\u001b[0m in \u001b[0;36m<module>\u001b[0;34m()\u001b[0m\n\u001b[0;32m----> 1\u001b[0;31m \u001b[0mrun\u001b[0m\u001b[0;34m(\u001b[0m\u001b[0mminer\u001b[0m\u001b[0;34m,\u001b[0m\u001b[0mbatch\u001b[0m\u001b[0;34m=\u001b[0m\u001b[0mbatch\u001b[0m\u001b[0;34m)\u001b[0m\u001b[0;34m\u001b[0m\u001b[0;34m\u001b[0m\u001b[0m\n\u001b[0m",
            "\u001b[0;32m<ipython-input-155-2213b9cac656>\u001b[0m in \u001b[0;36mrun\u001b[0;34m(c, batch, build)\u001b[0m\n\u001b[1;32m     11\u001b[0m \u001b[0;34m\u001b[0m\u001b[0m\n\u001b[1;32m     12\u001b[0m     \u001b[0;32mif\u001b[0m\u001b[0;34m(\u001b[0m\u001b[0;32mnot\u001b[0m \u001b[0mbuild\u001b[0m\u001b[0;34m)\u001b[0m\u001b[0;34m:\u001b[0m\u001b[0;34m\u001b[0m\u001b[0;34m\u001b[0m\u001b[0m\n\u001b[0;32m---> 13\u001b[0;31m         \u001b[0mcomputation\u001b[0m \u001b[0;34m=\u001b[0m \u001b[0mc\u001b[0m\u001b[0;34m.\u001b[0m\u001b[0mBuild\u001b[0m\u001b[0;34m(\u001b[0m\u001b[0;34m)\u001b[0m\u001b[0;34m\u001b[0m\u001b[0;34m\u001b[0m\u001b[0m\n\u001b[0m\u001b[1;32m     14\u001b[0m \u001b[0;34m\u001b[0m\u001b[0m\n\u001b[1;32m     15\u001b[0m \u001b[0;34m\u001b[0m\u001b[0m\n",
            "\u001b[0;31mRuntimeError\u001b[0m: Invalid argument: No XlaOp with handle 0"
          ]
        }
      ]
    },
    {
      "cell_type": "code",
      "metadata": {
        "id": "rqxA029e7DwM",
        "colab": {
          "base_uri": "https://localhost:8080/"
        },
        "outputId": "0363215b-6951-4f15-b0f4-3cb78ce2a2de"
      },
      "source": [
        "miner = xc.XlaBuilder(\"Main Function\")\n",
        "batch=100000000\n",
        "batch=100000\n",
        "# Constants\n",
        "KeccakRoundConstants = [xops.Constant(miner, dtype(0x000000000000800A))]\n",
        "Template = xops.Constant(miner, dtype(12312123213))\n",
        "\n",
        "pi_shifter = [0, 6, 12, 18, 24, 3, 9, 10, 16, 22, 1, 7, 13, 19, 20, 4, 5, 11, 17, 23, 2, 8, 14, 15, 21]\n",
        "\n",
        "param_shape = xc.Shape.array_shape(np.dtype(dtype),(batch,))\n",
        "\n",
        "state = []\n",
        "for x in range(25):\n",
        "    state.append(xops.Parameter(miner,x,param_shape))\n",
        "\n",
        "# Custom Constants\n",
        "C = [0 for x in range(5)]\n",
        "\n",
        "\n",
        "# Theta Function\n",
        "for x in range(5):\n",
        "    C[x] = state[index(x,0)]\n",
        "    for y in range(1,5):\n",
        "        C[x]=xops.Xor(state[index(x,y)],C[x])\n",
        "D = listRoll(C)\n",
        "# push(C,1)\n",
        "for x in range(5):\n",
        "    for y in range(5):\n",
        "        state[index(x,y)]=xops.Xor(state[index(x,y)],xops.Xor(D[(x+1)%5],C[(x+4)%5]))\n",
        "# print(state)\n",
        "\n",
        "# Rho Function\n",
        "rhoROL64(state)\n",
        "# print(state)\n",
        "# Pi Function\n",
        "rearrange(state,pi_shifter)\n",
        "# print(state)\n",
        "# Chi Function\n",
        "\n",
        "for y in range(5):\n",
        "    for x in range(5):\n",
        "        C[x] = xops.And(xops.Xor(state[index(x, y)],xops.Not((state[index(x+1, y)]))),state[index(x+2, y)])\n",
        "    for x in range(5):\n",
        "        state[index(x,y)] = C[x]\n",
        "# print(state)\n",
        "# Iota\n",
        "state[0]=xops.Xor(state[0],KeccakRoundConstants[0])\n",
        "# print(state)\n",
        "\n",
        "# Output\n",
        "out = xops.Tuple(miner,state)\n",
        "\n",
        "run(miner,batch=batch)"
      ],
      "execution_count": null,
      "outputs": [
        {
          "output_type": "stream",
          "text": [
            "Evalving\n",
            "Started\n",
            "239,402.02006641697\n",
            "<jaxlib.tpu_client_extension.PyTpuBuffer object at 0x7f1a03082f70>\n"
          ],
          "name": "stdout"
        }
      ]
    },
    {
      "cell_type": "code",
      "metadata": {
        "colab": {
          "base_uri": "https://localhost:8080/"
        },
        "id": "2vRPA_uZRavH",
        "outputId": "f8524390-079d-47d3-e007-3599abb26d51"
      },
      "source": [
        "run(miner,batch=batch)"
      ],
      "execution_count": null,
      "outputs": [
        {
          "output_type": "stream",
          "text": [
            "[DeviceArray(0, dtype=uint64), DeviceArray(1, dtype=uint64), DeviceArray(1, dtype=uint64)]\n"
          ],
          "name": "stdout"
        },
        {
          "output_type": "execute_result",
          "data": {
            "text/plain": [
              "array(0, dtype=uint64)"
            ]
          },
          "metadata": {
            "tags": []
          },
          "execution_count": 10
        }
      ]
    },
    {
      "cell_type": "code",
      "metadata": {
        "colab": {
          "base_uri": "https://localhost:8080/"
        },
        "id": "E_O3QdtKto2L",
        "outputId": "9901db7e-1dde-4d7b-cb2b-24a08d1d5f2d"
      },
      "source": [
        "Xsqr = 2\n",
        "\n",
        "guess = 1.0\n",
        "converged_delta = 0.001\n",
        "maxit = 1000\n",
        "\n",
        "in_shape_0 = xc.Shape.array_shape(np.dtype(np.float32), ())\n",
        "in_shape_1 = xc.Shape.array_shape(np.dtype(np.float32), ())\n",
        "in_shape_2 = xc.Shape.array_shape(np.dtype(np.int32), ())\n",
        "in_tuple_shape = xc.Shape.tuple_shape([in_shape_0, in_shape_1, in_shape_2])\n",
        "\n",
        "# body computation:\n",
        "# x_{i+1} = x_i - (x_i**2 - y) / (2 * x_i)\n",
        "bcb = xc.XlaBuilder(\"bodycomp\")\n",
        "intuple = xops.Parameter(bcb, 0, in_tuple_shape)\n",
        "y = xops.GetTupleElement(intuple, 0)\n",
        "x = xops.GetTupleElement(intuple, 1)\n",
        "guard_cntr = xops.GetTupleElement(intuple, 2)\n",
        "new_x = xops.Sub(x, xops.Div(xops.Sub(xops.Mul(x, x), y), xops.Add(x, x)))\n",
        "result = xops.Tuple(bcb, [y, new_x, xops.Sub(guard_cntr, xops.Constant(bcb, np.int32(1)))])\n",
        "body_computation = bcb.Build()\n",
        "\n",
        "# test computation -- convergence and max iteration test\n",
        "tcb = xc.XlaBuilder(\"testcomp\")\n",
        "intuple = xops.Parameter(tcb, 0, in_tuple_shape)\n",
        "y = xops.GetTupleElement(intuple, 0)\n",
        "x = xops.GetTupleElement(intuple, 1)\n",
        "guard_cntr = xops.GetTupleElement(intuple, 2)\n",
        "criterion = xops.Abs(xops.Sub(xops.Mul(x, x), y))\n",
        "# stop at convergence criteria or too many iterations\n",
        "test = xops.And(xops.Gt(criterion, xops.Constant(tcb, np.float32(converged_delta))), \n",
        "               xops.Gt(guard_cntr, xops.Constant(tcb, np.int32(0))))\n",
        "test_computation = tcb.Build()\n",
        "\n",
        "# while computation:\n",
        "# since jax does not allow users to create a tuple input directly, we need to\n",
        "# take multiple parameters and make a intermediate tuple before feeding it as\n",
        "# an initial carry to while loop\n",
        "wcb = xc.XlaBuilder(\"whilecomp\")\n",
        "y = xops.Parameter(wcb, 0, in_shape_0)\n",
        "x = xops.Parameter(wcb, 1, in_shape_1)\n",
        "guard_cntr = xops.Parameter(wcb, 2, in_shape_2)\n",
        "tuple_init_carry = xops.Tuple(wcb, [y, x, guard_cntr])\n",
        "xops.While(test_computation, body_computation, tuple_init_carry)\n",
        "while_computation = wcb.Build()\n",
        "\n",
        "# Now compile and execute:\n",
        "cpu_backend = xc.get_local_backend(\"cpu\")\n",
        "\n",
        "# compile graph based on shape\n",
        "compiled_computation = cpu_backend.compile(while_computation)\n",
        "\n",
        "y = np.array(Xsqr, dtype=np.float32)\n",
        "x = np.array(guess, dtype=np.float32)\n",
        "maxit = np.array(maxit, dtype=np.int32)\n",
        "\n",
        "device_input_y = cpu_backend.buffer_from_pyval(y)\n",
        "device_input_x = cpu_backend.buffer_from_pyval(x)\n",
        "device_input_maxit = cpu_backend.buffer_from_pyval(maxit)\n",
        "device_out = compiled_computation.execute([device_input_y, device_input_x, device_input_maxit])\n",
        "\n",
        "# retrive the result\n",
        "print(device_out)\n",
        "print(\"square root of {y} is {x}\".format(y=y, x=device_out[1].to_py()))"
      ],
      "execution_count": null,
      "outputs": [
        {
          "output_type": "stream",
          "text": [
            "[DeviceArray(2., dtype=float32), DeviceArray(1.4142157, dtype=float32), DeviceArray(997, dtype=int32)]\n",
            "square root of 2.0 is 1.4142156839370728\n"
          ],
          "name": "stdout"
        }
      ]
    }
  ]
}