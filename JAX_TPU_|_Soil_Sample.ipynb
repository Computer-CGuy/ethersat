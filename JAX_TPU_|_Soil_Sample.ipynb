{
  "nbformat": 4,
  "nbformat_minor": 0,
  "metadata": {
    "colab": {
      "name": "JAX TPU | Soil Sample.ipynb",
      "provenance": [],
      "collapsed_sections": [],
      "authorship_tag": "ABX9TyNr/Srh7+jc1XVPkFbfU3v8",
      "include_colab_link": true
    },
    "kernelspec": {
      "name": "python3",
      "display_name": "Python 3"
    },
    "language_info": {
      "name": "python"
    },
    "accelerator": "TPU"
  },
  "cells": [
    {
      "cell_type": "markdown",
      "metadata": {
        "id": "view-in-github",
        "colab_type": "text"
      },
      "source": [
        "<a href=\"https://colab.research.google.com/github/Computer-CGuy/etherpaisahipaisa/blob/master/JAX_TPU_%7C_Soil_Sample.ipynb\" target=\"_parent\"><img src=\"https://colab.research.google.com/assets/colab-badge.svg\" alt=\"Open In Colab\"/></a>"
      ]
    },
    {
      "cell_type": "markdown",
      "metadata": {
        "id": "KSbBrW0HwvI6"
      },
      "source": [
        ""
      ]
    },
    {
      "cell_type": "code",
      "metadata": {
        "id": "TJ-6xW0Bz33e"
      },
      "source": [
        "import jax.tools.colab_tpu\n",
        "jax.tools.colab_tpu.setup_tpu()"
      ],
      "execution_count": 1,
      "outputs": []
    },
    {
      "cell_type": "code",
      "metadata": {
        "colab": {
          "base_uri": "https://localhost:8080/"
        },
        "id": "7hKXWVg_1st2",
        "outputId": "3640142e-7d02-4448-ec49-11cd201905e9"
      },
      "source": [
        "import jax\n",
        "jax.devices()"
      ],
      "execution_count": 2,
      "outputs": [
        {
          "output_type": "execute_result",
          "data": {
            "text/plain": [
              "[TpuDevice(id=0, process_index=0, coords=(0,0,0), core_on_chip=0),\n",
              " TpuDevice(id=1, process_index=0, coords=(0,0,0), core_on_chip=1),\n",
              " TpuDevice(id=2, process_index=0, coords=(1,0,0), core_on_chip=0),\n",
              " TpuDevice(id=3, process_index=0, coords=(1,0,0), core_on_chip=1),\n",
              " TpuDevice(id=4, process_index=0, coords=(0,1,0), core_on_chip=0),\n",
              " TpuDevice(id=5, process_index=0, coords=(0,1,0), core_on_chip=1),\n",
              " TpuDevice(id=6, process_index=0, coords=(1,1,0), core_on_chip=0),\n",
              " TpuDevice(id=7, process_index=0, coords=(1,1,0), core_on_chip=1)]"
            ]
          },
          "metadata": {
            "tags": []
          },
          "execution_count": 2
        }
      ]
    },
    {
      "cell_type": "code",
      "metadata": {
        "id": "aiIWkI8XOsDL"
      },
      "source": [
        "import numpy as np\n",
        "\n",
        "# We only need to import JAX's xla_client, not all of JAX.\n",
        "from jax.lib import xla_client as xc\n",
        "from jax.lib import xla_bridge as xb\n",
        "xops = xc.ops"
      ],
      "execution_count": 3,
      "outputs": []
    },
    {
      "cell_type": "code",
      "metadata": {
        "id": "4kZAR0fF2Jxg"
      },
      "source": [
        ""
      ],
      "execution_count": null,
      "outputs": []
    },
    {
      "cell_type": "code",
      "metadata": {
        "colab": {
          "base_uri": "https://localhost:8080/"
        },
        "id": "oMwHqAn3RlVl",
        "outputId": "c109a6dc-b51a-4f9b-a43d-87ee4d350ab6"
      },
      "source": [
        "xb._get_tpu_driver_backend(\"tpu\")"
      ],
      "execution_count": 4,
      "outputs": [
        {
          "output_type": "execute_result",
          "data": {
            "text/plain": [
              "<jaxlib.tpu_client_extension.TpuClient at 0x7f20882b9570>"
            ]
          },
          "metadata": {
            "tags": []
          },
          "execution_count": 4
        }
      ]
    },
    {
      "cell_type": "code",
      "metadata": {
        "id": "UBNl5nKQRy2P"
      },
      "source": [
        ""
      ],
      "execution_count": null,
      "outputs": []
    },
    {
      "cell_type": "code",
      "metadata": {
        "id": "mu-pMlV3WWKd"
      },
      "source": [
        "times = 1\n",
        "def timed(runer,args,rate=False,batch=1):\n",
        "    global times\n",
        "    import time\n",
        "    ret = runer(args)\n",
        "    t0 = time.time()\n",
        "    a = ret[0].to_py()\n",
        "    t1 = time.time()\n",
        "    print(a)\n",
        "    if(rate):\n",
        "        print(f\"{batch*times/((t1-t0)):,}\")\n",
        "        return ret\n",
        "    print(f\"{(t1-t0):,}s\")\n",
        "    return ret"
      ],
      "execution_count": 5,
      "outputs": []
    },
    {
      "cell_type": "code",
      "metadata": {
        "colab": {
          "base_uri": "https://localhost:8080/"
        },
        "id": "PfgApqk9XNAZ",
        "outputId": "3e6d9f9a-c3f2-4871-b505-da2a7fca80f0"
      },
      "source": [
        "(np.random.randn(5)*batch).astype(dtype=np.uint64)"
      ],
      "execution_count": null,
      "outputs": [
        {
          "output_type": "execute_result",
          "data": {
            "text/plain": [
              "array([             6575798, 18446744073695788334,             16864771,\n",
              "                    6378636,              3508388], dtype=uint64)"
            ]
          },
          "metadata": {
            "tags": []
          },
          "execution_count": 61
        }
      ]
    },
    {
      "cell_type": "code",
      "metadata": {
        "colab": {
          "base_uri": "https://localhost:8080/"
        },
        "id": "lVDvvbkj162b",
        "outputId": "0eb5017d-a37c-4aea-a524-bb9a94e3bec1"
      },
      "source": [
        "xc.get_local_backend(\"cpu\")"
      ],
      "execution_count": null,
      "outputs": [
        {
          "output_type": "execute_result",
          "data": {
            "text/plain": [
              "<jaxlib.xla_extension.Client at 0x7f9d10272f70>"
            ]
          },
          "metadata": {
            "tags": []
          },
          "execution_count": 18
        }
      ]
    },
    {
      "cell_type": "code",
      "metadata": {
        "id": "PWCiLAa_UrWS"
      },
      "source": [
        "\n",
        "def run(c,batch=1,build=None):\n",
        "    global dtype\n",
        "    global compiled_computation\n",
        "    global cpu_backend\n",
        "    global ROUNDS\n",
        "    # your notebook kernel to crash!\n",
        "    # # get a cpu backend\n",
        "    cpu_backend = xc.get_local_backend(\"cpu\")\n",
        "    # cpu_backend = xc.get_local_backend(\"interpreter\")\n",
        "    # cpu_backend = xb._get_tpu_driver_backend(\"tpu\")\n",
        "\n",
        "    if(not build):\n",
        "        computation = c.Build()\n",
        "    else:\n",
        "        computation = build\n",
        "    \n",
        "    # # compile graph based on shape\n",
        "    compiled_computation = cpu_backend.compile(computation)\n",
        "\n",
        "    # if(batch==1):\n",
        "    #     As = np.array(1, dtype=dtype)\n",
        "    # else:\n",
        "        # As = np.random.randn(batch,dtype=unint64)\n",
        "        # As = np.zeros(batch, dtype=np.uint64)\n",
        "        # As = (np.random.randn(batch)*3000).astype(dtype=dtype)\n",
        "    As = np.random.randint(0,0x7FFFFFFF-1,(25,batch),dtype=dtype)\n",
        "    # print(As)\n",
        "    state = [cpu_backend.buffer_from_pyval(np.uint64(0)),cpu_backend.buffer_from_pyval(np.uint64(ROUNDS))]\n",
        "    print(\"Evalving\")\n",
        "    for x in range(25):\n",
        "        state.append(cpu_backend.buffer_from_pyval(As[x]))\n",
        "    print(\"Started\")\n",
        "    out = timed(compiled_computation.execute,state,rate=True,batch=batch)\n",
        "    print(\"Nuked! :(\")\n",
        "    # print(out)\n",
        "    # print(\"Or not\")\n",
        "    \n",
        "    # timed(compiled_computation.execute,state,rate=True,batch=batch)\n",
        "    # print(state)\n",
        "    # device_out = compiled_computation.execute(state)\n",
        "    # print(device_out)"
      ],
      "execution_count": 7,
      "outputs": []
    },
    {
      "cell_type": "code",
      "metadata": {
        "id": "2EKTJpbioz-w"
      },
      "source": [
        ""
      ],
      "execution_count": null,
      "outputs": []
    },
    {
      "cell_type": "code",
      "metadata": {
        "id": "1XvvjUCFNIJ5"
      },
      "source": [
        ""
      ],
      "execution_count": null,
      "outputs": []
    },
    {
      "cell_type": "code",
      "metadata": {
        "id": "8zINQ8tYlsw_"
      },
      "source": [
        "As = [np.random.randint(0,batch,batch,dtype=dtype) for x in range(25)]"
      ],
      "execution_count": null,
      "outputs": []
    },
    {
      "cell_type": "code",
      "metadata": {
        "id": "F1dWHexAluD_",
        "colab": {
          "base_uri": "https://localhost:8080/"
        },
        "outputId": "c769f086-17eb-4a29-a258-59ac6f82cff0"
      },
      "source": [
        "type(np.int32(0))"
      ],
      "execution_count": null,
      "outputs": [
        {
          "output_type": "execute_result",
          "data": {
            "text/plain": [
              "numpy.int32"
            ]
          },
          "metadata": {
            "tags": []
          },
          "execution_count": 89
        }
      ]
    },
    {
      "cell_type": "code",
      "metadata": {
        "id": "zElEse2ElDaD"
      },
      "source": [
        "from jax import device_put\n",
        "\n",
        "x = np.random.normal(size=(10, 10)).astype(np.float32)\n",
        "x = device_put(x)"
      ],
      "execution_count": null,
      "outputs": []
    },
    {
      "cell_type": "code",
      "metadata": {
        "id": "VTUR9oJWlF1F"
      },
      "source": [
        "import jax.numpy as jnp\n",
        "# jnp.ran\n",
        "# jnp.randint(0,10000,(100,100))"
      ],
      "execution_count": null,
      "outputs": []
    },
    {
      "cell_type": "code",
      "metadata": {
        "id": "lOJ9w90eX9mF"
      },
      "source": [
        "def index(x,y):\n",
        "    return (((x)%5)+5*((y)%5))"
      ],
      "execution_count": null,
      "outputs": []
    },
    {
      "cell_type": "code",
      "metadata": {
        "id": "dLkgiLS4Z1bZ"
      },
      "source": [
        "def update(l):\n",
        "    l[0]=1\n",
        "    return l"
      ],
      "execution_count": null,
      "outputs": []
    },
    {
      "cell_type": "code",
      "metadata": {
        "id": "9ygCOIjiZZtA"
      },
      "source": [
        "def listRoll(a):\n",
        "    ret = []\n",
        "    for i in range(5):\n",
        "        x = a[(i+1)%5]\n",
        "        ret.append(ROL64(x,[get(2),get(64-2)]))\n",
        "        # ret.append(xops.Not(xops.Or(xops.Div(x,Template),xops.Mul(x,Template))))\n",
        "    return ret"
      ],
      "execution_count": null,
      "outputs": []
    },
    {
      "cell_type": "code",
      "metadata": {
        "id": "KTimeSNugG_F"
      },
      "source": [
        "def push(l,p):\n",
        "    n = len(l)\n",
        "    if(p==1):\n",
        "        temp = l[0]\n",
        "        for x in range(n):\n",
        "            l[x] = l[(x+1)%n]\n",
        "        l[n-1] = temp"
      ],
      "execution_count": null,
      "outputs": []
    },
    {
      "cell_type": "code",
      "metadata": {
        "id": "OkaqXWxLb-4b"
      },
      "source": [
        "def rearrange(l,a):\n",
        "    n = len(l)\n",
        "    temp = [0 for x in range(n)]\n",
        "    for x in range(n):\n",
        "        temp[x] = l[x]\n",
        "    for x in range(n):\n",
        "        state[x] = temp[a[x]]"
      ],
      "execution_count": null,
      "outputs": []
    },
    {
      "cell_type": "code",
      "metadata": {
        "id": "8gTguWcwaMv_"
      },
      "source": [
        "converted = {}\n",
        "def get(num):\n",
        "    global dtype\n",
        "    global converted\n",
        "    try:\n",
        "        return converted[num]\n",
        "    except:\n",
        "        converted[num] = xops.Constant(miner, dtype(num))\n",
        "    return converted[num]"
      ],
      "execution_count": null,
      "outputs": []
    },
    {
      "cell_type": "code",
      "metadata": {
        "id": "5MpvaaQxa1uL"
      },
      "source": [
        "KeccakRhoOffsets = [0 , 1 , 62, 28, 27, 36, 44, 6, 55, 20, 3, 10, 43, 25, 39, 41, 45, 15, 21, 8, 18, 2, 61, 56, 14]"
      ],
      "execution_count": null,
      "outputs": []
    },
    {
      "cell_type": "code",
      "metadata": {
        "id": "Grbs3nC-iELN"
      },
      "source": [
        "xops.ShiftLeft"
      ],
      "execution_count": null,
      "outputs": []
    },
    {
      "cell_type": "code",
      "metadata": {
        "id": "GrqSyxQ_ri9i"
      },
      "source": [
        "xops.ShiftRightArithmetic"
      ],
      "execution_count": null,
      "outputs": []
    },
    {
      "cell_type": "code",
      "metadata": {
        "id": "AeboFS_MctWX"
      },
      "source": [
        "def ROL64(a,offset):\n",
        "    return xops.Xor(xops.ShiftLeft(a,offset[0]),xops.ShiftRightArithmetic(a,offset[1]))\n",
        "    # return xops.Xor(xops.Mul(a,offset[0]),xops.Div(a,offset[1]))\n",
        "def rhoROL64(a):\n",
        "    for i in range(len(a)):\n",
        "        a[i] = ROL64(a[i],[get(KeccakRhoOffsets[i]),get((64-KeccakRhoOffsets[i]))])"
      ],
      "execution_count": null,
      "outputs": []
    },
    {
      "cell_type": "code",
      "metadata": {
        "id": "VsUfEodWkz5A"
      },
      "source": [
        "dtype = np.uint64"
      ],
      "execution_count": null,
      "outputs": []
    },
    {
      "cell_type": "code",
      "metadata": {
        "id": "lES1Y_rOsFVt"
      },
      "source": [
        "Template = None"
      ],
      "execution_count": null,
      "outputs": []
    },
    {
      "cell_type": "code",
      "metadata": {
        "id": "P-orjJgmRxiA",
        "colab": {
          "base_uri": "https://localhost:8080/"
        },
        "outputId": "46102933-c08c-45e7-a699-682b72affb5f"
      },
      "source": [
        "miner = xc.XlaBuilder(\"Main Function\")\n",
        "converted = {}\n",
        "batch=10000\n",
        "print(f\"{batch:,}\")\n",
        "# batch=1\n",
        "# Constants\n",
        "KeccakRoundConstants = [xops.Constant(miner, dtype(0x000000000000800A))]\n",
        "# Template = xops.Constant(miner, dtype(12312123213))\n",
        "\n",
        "pi_shifter = [0, 6, 12, 18, 24, 3, 9, 10, 16, 22, 1, 7, 13, 19, 20, 4, 5, 11, 17, 23, 2, 8, 14, 15, 21]\n",
        "\n",
        "param_shape = xc.Shape.array_shape(np.dtype(dtype),(batch,))\n",
        "param_shape2 = xc.Shape.array_shape(np.dtype(dtype),())\n",
        "\n",
        "state = [param_shape2,param_shape2]+[xc.Shape.array_shape(np.dtype(dtype),(batch,)) for x in range(25)]\n",
        "\n",
        "in_tuple_shape = xc.Shape.tuple_shape(state)\n",
        "# Custom Constants\n",
        "tup = xops.Parameter(miner,0,in_tuple_shape)\n",
        "\n",
        "HASHES = xops.GetTupleElement(tup,0)\n",
        "\n",
        "ROUND = xops.GetTupleElement(tup,1)\n",
        "ROUND = xops.Sub(ROUND,xops.Constant(miner, np.uint64(1)))\n",
        "\n",
        "state = []\n",
        "for x in range(25):\n",
        "    state.append(xops.GetTupleElement(tup,x+2))\n",
        "print(state)\n",
        "C = [0 for x in range(5)]\n",
        "\n",
        "# Theta Function\n",
        "for x in range(5):\n",
        "    C[x] = state[index(x,0)]\n",
        "    for y in range(1,5):\n",
        "        C[x]=xops.Xor(state[index(x,y)],C[x])\n",
        "D = listRoll(C)\n",
        "# push(C,1)\n",
        "for x in range(5):\n",
        "    for y in range(5):\n",
        "        state[index(x,y)]=xops.Xor(state[index(x,y)],xops.Xor(D[(x+1)%5],C[(x+4)%5]))\n",
        "print(state)\n",
        "\n",
        "# Rho Function\n",
        "rhoROL64(state)\n",
        "print(state)\n",
        "\n",
        "# Pi Function\n",
        "rearrange(state,pi_shifter)\n",
        "print(state)\n",
        "\n",
        "# Chi Function\n",
        "for y in range(5):\n",
        "    for x in range(5):\n",
        "        C[x] = xops.And(xops.Xor(state[index(x, y)],xops.Not((state[index(x+1, y)]))),state[index(x+2, y)])\n",
        "    for x in range(5):\n",
        "        state[index(x,y)] = C[x]\n",
        "print(state)\n",
        "\"\"\"# print(state)\n",
        "# Iota\n",
        "state[0]=xops.Xor(state[0],KeccakRoundConstants[0])\n",
        "# print(state)\n",
        "\n",
        "# Output\n",
        "\"\"\"\n",
        "state[0]=xops.Xor(state[0],KeccakRoundConstants[0])\n",
        "print(state)\n",
        "# out = xops.Tuple(miner,[ROUND,xops.Tuple(miner,state)])\n",
        "xops.Tuple(miner,[HASHES,ROUND]+state)\n",
        "body_computation = miner.build()\n",
        "# run(miner,batch=batch)\n",
        "\n"
      ],
      "execution_count": null,
      "outputs": [
        {
          "output_type": "stream",
          "text": [
            "10,000\n",
            "[<jaxlib.xla_extension.XlaOp object at 0x7ff079d53d30>, <jaxlib.xla_extension.XlaOp object at 0x7ff079d53170>, <jaxlib.xla_extension.XlaOp object at 0x7ff079d28430>, <jaxlib.xla_extension.XlaOp object at 0x7ff079d28630>, <jaxlib.xla_extension.XlaOp object at 0x7ff079d283b0>, <jaxlib.xla_extension.XlaOp object at 0x7ff079d286f0>, <jaxlib.xla_extension.XlaOp object at 0x7ff079d28770>, <jaxlib.xla_extension.XlaOp object at 0x7ff079d28830>, <jaxlib.xla_extension.XlaOp object at 0x7ff079d284f0>, <jaxlib.xla_extension.XlaOp object at 0x7ff079d28470>, <jaxlib.xla_extension.XlaOp object at 0x7ff079d6ae70>, <jaxlib.xla_extension.XlaOp object at 0x7ff079d6ad30>, <jaxlib.xla_extension.XlaOp object at 0x7ff079d30870>, <jaxlib.xla_extension.XlaOp object at 0x7ff079d308f0>, <jaxlib.xla_extension.XlaOp object at 0x7ff079d30970>, <jaxlib.xla_extension.XlaOp object at 0x7ff079d30a70>, <jaxlib.xla_extension.XlaOp object at 0x7ff079d30af0>, <jaxlib.xla_extension.XlaOp object at 0x7ff079d30a30>, <jaxlib.xla_extension.XlaOp object at 0x7ff079d309f0>, <jaxlib.xla_extension.XlaOp object at 0x7ff079d11330>, <jaxlib.xla_extension.XlaOp object at 0x7ff079d11230>, <jaxlib.xla_extension.XlaOp object at 0x7ff079d112b0>, <jaxlib.xla_extension.XlaOp object at 0x7ff079d31d30>, <jaxlib.xla_extension.XlaOp object at 0x7ff079d31bf0>, <jaxlib.xla_extension.XlaOp object at 0x7ff079d31c30>]\n",
            "[<jaxlib.xla_extension.XlaOp object at 0x7ff079d7fbf0>, <jaxlib.xla_extension.XlaOp object at 0x7ff079d30a70>, <jaxlib.xla_extension.XlaOp object at 0x7ff079d30af0>, <jaxlib.xla_extension.XlaOp object at 0x7ff079d30a30>, <jaxlib.xla_extension.XlaOp object at 0x7ff079d309f0>, <jaxlib.xla_extension.XlaOp object at 0x7ff079d53a70>, <jaxlib.xla_extension.XlaOp object at 0x7ff079d11230>, <jaxlib.xla_extension.XlaOp object at 0x7ff079d112b0>, <jaxlib.xla_extension.XlaOp object at 0x7ff079d31d30>, <jaxlib.xla_extension.XlaOp object at 0x7ff079d31bf0>, <jaxlib.xla_extension.XlaOp object at 0x7ff079d53d30>, <jaxlib.xla_extension.XlaOp object at 0x7ff079d53170>, <jaxlib.xla_extension.XlaOp object at 0x7ff079d28430>, <jaxlib.xla_extension.XlaOp object at 0x7ff079d28630>, <jaxlib.xla_extension.XlaOp object at 0x7ff079d283b0>, <jaxlib.xla_extension.XlaOp object at 0x7ff079d286f0>, <jaxlib.xla_extension.XlaOp object at 0x7ff079d28770>, <jaxlib.xla_extension.XlaOp object at 0x7ff079d28830>, <jaxlib.xla_extension.XlaOp object at 0x7ff079d284f0>, <jaxlib.xla_extension.XlaOp object at 0x7ff079d28470>, <jaxlib.xla_extension.XlaOp object at 0x7ff079d6ae70>, <jaxlib.xla_extension.XlaOp object at 0x7ff079d6ad30>, <jaxlib.xla_extension.XlaOp object at 0x7ff079d30870>, <jaxlib.xla_extension.XlaOp object at 0x7ff079d308f0>, <jaxlib.xla_extension.XlaOp object at 0x7ff079d30970>]\n",
            "[<jaxlib.xla_extension.XlaOp object at 0x7ff079d7f270>, <jaxlib.xla_extension.XlaOp object at 0x7ff079d7f830>, <jaxlib.xla_extension.XlaOp object at 0x7ff079d7f930>, <jaxlib.xla_extension.XlaOp object at 0x7ff079d7faf0>, <jaxlib.xla_extension.XlaOp object at 0x7ff079d7fab0>, <jaxlib.xla_extension.XlaOp object at 0x7ff079d7fbb0>, <jaxlib.xla_extension.XlaOp object at 0x7ff079d7fa70>, <jaxlib.xla_extension.XlaOp object at 0x7ff079d7f9b0>, <jaxlib.xla_extension.XlaOp object at 0x7ff079d7f230>, <jaxlib.xla_extension.XlaOp object at 0x7ff079d7f7f0>, <jaxlib.xla_extension.XlaOp object at 0x7ff079d7fb70>, <jaxlib.xla_extension.XlaOp object at 0x7ff079d7ff70>, <jaxlib.xla_extension.XlaOp object at 0x7ff079d84130>, <jaxlib.xla_extension.XlaOp object at 0x7ff079d80fb0>, <jaxlib.xla_extension.XlaOp object at 0x7ff079d80070>, <jaxlib.xla_extension.XlaOp object at 0x7ff079d80930>, <jaxlib.xla_extension.XlaOp object at 0x7ff079d80eb0>, <jaxlib.xla_extension.XlaOp object at 0x7ff079d80430>, <jaxlib.xla_extension.XlaOp object at 0x7ff079d80830>, <jaxlib.xla_extension.XlaOp object at 0x7ff079d80e30>, <jaxlib.xla_extension.XlaOp object at 0x7ff079d80330>, <jaxlib.xla_extension.XlaOp object at 0x7ff079d80530>, <jaxlib.xla_extension.XlaOp object at 0x7ff079d80970>, <jaxlib.xla_extension.XlaOp object at 0x7ff079d6ae70>, <jaxlib.xla_extension.XlaOp object at 0x7ff079d80870>]\n",
            "[<jaxlib.xla_extension.XlaOp object at 0x7ff079d7f270>, <jaxlib.xla_extension.XlaOp object at 0x7ff079d7fa70>, <jaxlib.xla_extension.XlaOp object at 0x7ff079d84130>, <jaxlib.xla_extension.XlaOp object at 0x7ff079d80830>, <jaxlib.xla_extension.XlaOp object at 0x7ff079d80870>, <jaxlib.xla_extension.XlaOp object at 0x7ff079d7faf0>, <jaxlib.xla_extension.XlaOp object at 0x7ff079d7f7f0>, <jaxlib.xla_extension.XlaOp object at 0x7ff079d7fb70>, <jaxlib.xla_extension.XlaOp object at 0x7ff079d80eb0>, <jaxlib.xla_extension.XlaOp object at 0x7ff079d80970>, <jaxlib.xla_extension.XlaOp object at 0x7ff079d7f830>, <jaxlib.xla_extension.XlaOp object at 0x7ff079d7f9b0>, <jaxlib.xla_extension.XlaOp object at 0x7ff079d80fb0>, <jaxlib.xla_extension.XlaOp object at 0x7ff079d80e30>, <jaxlib.xla_extension.XlaOp object at 0x7ff079d80330>, <jaxlib.xla_extension.XlaOp object at 0x7ff079d7fab0>, <jaxlib.xla_extension.XlaOp object at 0x7ff079d7fbb0>, <jaxlib.xla_extension.XlaOp object at 0x7ff079d7ff70>, <jaxlib.xla_extension.XlaOp object at 0x7ff079d80430>, <jaxlib.xla_extension.XlaOp object at 0x7ff079d6ae70>, <jaxlib.xla_extension.XlaOp object at 0x7ff079d7f930>, <jaxlib.xla_extension.XlaOp object at 0x7ff079d7f230>, <jaxlib.xla_extension.XlaOp object at 0x7ff079d80070>, <jaxlib.xla_extension.XlaOp object at 0x7ff079d80930>, <jaxlib.xla_extension.XlaOp object at 0x7ff079d80530>]\n",
            "[<jaxlib.xla_extension.XlaOp object at 0x7ff079d30970>, <jaxlib.xla_extension.XlaOp object at 0x7ff079d53b70>, <jaxlib.xla_extension.XlaOp object at 0x7ff079d301b0>, <jaxlib.xla_extension.XlaOp object at 0x7ff079d7fa30>, <jaxlib.xla_extension.XlaOp object at 0x7ff079d31f70>, <jaxlib.xla_extension.XlaOp object at 0x7ff079d84130>, <jaxlib.xla_extension.XlaOp object at 0x7ff079d7fa70>, <jaxlib.xla_extension.XlaOp object at 0x7ff079d7f270>, <jaxlib.xla_extension.XlaOp object at 0x7ff079d31e70>, <jaxlib.xla_extension.XlaOp object at 0x7ff079d31e30>, <jaxlib.xla_extension.XlaOp object at 0x7ff079d7fb70>, <jaxlib.xla_extension.XlaOp object at 0x7ff079d7f7f0>, <jaxlib.xla_extension.XlaOp object at 0x7ff079d7faf0>, <jaxlib.xla_extension.XlaOp object at 0x7ff079d31eb0>, <jaxlib.xla_extension.XlaOp object at 0x7ff079d31c70>, <jaxlib.xla_extension.XlaOp object at 0x7ff079d7f9b0>, <jaxlib.xla_extension.XlaOp object at 0x7ff079d7f830>, <jaxlib.xla_extension.XlaOp object at 0x7ff079d80330>, <jaxlib.xla_extension.XlaOp object at 0x7ff079d80e30>, <jaxlib.xla_extension.XlaOp object at 0x7ff079d80fb0>, <jaxlib.xla_extension.XlaOp object at 0x7ff079d6ae70>, <jaxlib.xla_extension.XlaOp object at 0x7ff079d7ff70>, <jaxlib.xla_extension.XlaOp object at 0x7ff079d7fbb0>, <jaxlib.xla_extension.XlaOp object at 0x7ff079d7fab0>, <jaxlib.xla_extension.XlaOp object at 0x7ff079d80430>]\n",
            "[<jaxlib.xla_extension.XlaOp object at 0x7ff079d6ad30>, <jaxlib.xla_extension.XlaOp object at 0x7ff079d53b70>, <jaxlib.xla_extension.XlaOp object at 0x7ff079d301b0>, <jaxlib.xla_extension.XlaOp object at 0x7ff079d7fa30>, <jaxlib.xla_extension.XlaOp object at 0x7ff079d31f70>, <jaxlib.xla_extension.XlaOp object at 0x7ff079d84130>, <jaxlib.xla_extension.XlaOp object at 0x7ff079d7fa70>, <jaxlib.xla_extension.XlaOp object at 0x7ff079d7f270>, <jaxlib.xla_extension.XlaOp object at 0x7ff079d31e70>, <jaxlib.xla_extension.XlaOp object at 0x7ff079d31e30>, <jaxlib.xla_extension.XlaOp object at 0x7ff079d7fb70>, <jaxlib.xla_extension.XlaOp object at 0x7ff079d7f7f0>, <jaxlib.xla_extension.XlaOp object at 0x7ff079d7faf0>, <jaxlib.xla_extension.XlaOp object at 0x7ff079d31eb0>, <jaxlib.xla_extension.XlaOp object at 0x7ff079d31c70>, <jaxlib.xla_extension.XlaOp object at 0x7ff079d7f9b0>, <jaxlib.xla_extension.XlaOp object at 0x7ff079d7f830>, <jaxlib.xla_extension.XlaOp object at 0x7ff079d80330>, <jaxlib.xla_extension.XlaOp object at 0x7ff079d80e30>, <jaxlib.xla_extension.XlaOp object at 0x7ff079d80fb0>, <jaxlib.xla_extension.XlaOp object at 0x7ff079d6ae70>, <jaxlib.xla_extension.XlaOp object at 0x7ff079d7ff70>, <jaxlib.xla_extension.XlaOp object at 0x7ff079d7fbb0>, <jaxlib.xla_extension.XlaOp object at 0x7ff079d7fab0>, <jaxlib.xla_extension.XlaOp object at 0x7ff079d80430>]\n"
          ],
          "name": "stdout"
        }
      ]
    },
    {
      "cell_type": "code",
      "metadata": {
        "id": "Oje9O1oYNWkK"
      },
      "source": [
        "# state = [0]\n",
        "# for x in range(8):\n",
        "#     d = xops.Constant(miner, np.uint64(x))\n",
        "#     e = xops.And(d,d)\n",
        "#     print(e,d)\n",
        "# #     e = xops.Constant(miner, np.int32(x))\n",
        "# #     temp\n",
        "# #     state[0] = d\n",
        "    \n",
        "# #     # del d"
      ],
      "execution_count": null,
      "outputs": []
    },
    {
      "cell_type": "code",
      "metadata": {
        "id": "SEnp10dZcEyI"
      },
      "source": [
        "ROUNDS = 24"
      ],
      "execution_count": null,
      "outputs": []
    },
    {
      "cell_type": "code",
      "metadata": {
        "id": "QvAJySJkxdXm"
      },
      "source": [
        "# test computation:\n",
        "tcb = xc.XlaBuilder(\"testcomp\")\n",
        "tup = xops.Parameter(tcb, 0, in_tuple_shape)\n",
        "x = xops.GetTupleElement(tup,1)\n",
        "\n",
        "const0 = xops.Constant(tcb, np.uint64(0))\n",
        "y = xops.Gt(x, const0)\n",
        "test_computation = tcb.Build()"
      ],
      "execution_count": null,
      "outputs": []
    },
    {
      "cell_type": "code",
      "metadata": {
        "id": "zx0xOmYfbs55"
      },
      "source": [
        "wcb = xc.XlaBuilder(\"whilecomp\")\n",
        "hashes = xops.Parameter(wcb, 0, param_shape2)\n",
        "counter = xops.Parameter(wcb, 1, param_shape2)\n",
        "records = [hashes,counter]\n",
        "for x in range(25):\n",
        "    records.append(xops.Parameter(wcb, x+2, param_shape))\n",
        "\n",
        "# mixedTuple = xc.Shape.Tuple(counter,xc.Shape.tuple_shape(x))\n",
        "res = xops.Tuple(wcb,records)\n",
        "# res = xops.Tuple(wcb,[counter,b])\n",
        "xops.While(test_computation, body_computation, res)\n",
        "wc = wcb.build()"
      ],
      "execution_count": null,
      "outputs": []
    },
    {
      "cell_type": "code",
      "metadata": {
        "colab": {
          "base_uri": "https://localhost:8080/"
        },
        "id": "SLlJ-fvAc4KB",
        "outputId": "ca03d5ce-000a-4766-a635-02e236e5c89b"
      },
      "source": [
        "run(wcb,batch=batch,build=wc)"
      ],
      "execution_count": null,
      "outputs": [
        {
          "output_type": "stream",
          "text": [
            "Evalving\n",
            "Started\n",
            "172,257.75185839256\n"
          ],
          "name": "stdout"
        }
      ]
    },
    {
      "cell_type": "code",
      "metadata": {
        "id": "lfvOf5RJqJHi",
        "colab": {
          "base_uri": "https://localhost:8080/"
        },
        "outputId": "135b5f10-921f-4bea-aebb-54639674a282"
      },
      "source": [
        "run(wcb,batch=batch,build=wc)\n",
        "# Rounds 24\n",
        "# Single Run: TEST TPU: 1,055,138.9643583086 CPU: 3,396,197,570.8502026"
      ],
      "execution_count": null,
      "outputs": [
        {
          "output_type": "stream",
          "text": [
            "Evalving\n",
            "Started\n",
            "179,721.48188775292\n"
          ],
          "name": "stdout"
        }
      ]
    },
    {
      "cell_type": "code",
      "metadata": {
        "id": "KOnwnaGeIVyK"
      },
      "source": [
        "# test computation:\n",
        "tce = xc.XlaBuilder(\"processalgo\")\n",
        "tup = xops.Parameter(tce, 0, in_tuple_shape)\n",
        "x = xops.GetTupleElement(tup,0)\n",
        "x = xops.Add(x,xops.Constant(tce, np.uint64(1)))\n",
        "states = [x]\n",
        "for x in range(26):\n",
        "    states.append(xops.GetTupleElement(tup,x+1))\n",
        "res = xops.Call(tce,wc,states)\n",
        "# res = xops.Tuple(tce,states)\n",
        "processalgo = tce.Build()"
      ],
      "execution_count": null,
      "outputs": []
    },
    {
      "cell_type": "code",
      "metadata": {
        "colab": {
          "base_uri": "https://localhost:8080/"
        },
        "id": "ljSXipI9O-XI",
        "outputId": "98249f52-46ac-4689-9496-390a229af710"
      },
      "source": [
        "0x7FFFFFFF"
      ],
      "execution_count": null,
      "outputs": [
        {
          "output_type": "execute_result",
          "data": {
            "text/plain": [
              "2147483647"
            ]
          },
          "metadata": {
            "tags": []
          },
          "execution_count": 99
        }
      ]
    },
    {
      "cell_type": "code",
      "metadata": {
        "colab": {
          "base_uri": "https://localhost:8080/"
        },
        "id": "bc8d1O0nO_Oy",
        "outputId": "c2eaa662-60dd-4d2a-e0c7-96d3c6622d8a"
      },
      "source": [
        "50000000000"
      ],
      "execution_count": null,
      "outputs": [
        {
          "output_type": "execute_result",
          "data": {
            "text/plain": [
              "50000000000"
            ]
          },
          "metadata": {
            "tags": []
          },
          "execution_count": 100
        }
      ]
    },
    {
      "cell_type": "code",
      "metadata": {
        "id": "X-7CuipMhL_W"
      },
      "source": [
        "times = 20000\n",
        "# test computation:\n",
        "tcb = xc.XlaBuilder(\"testalgo\")\n",
        "tup = xops.Parameter(tcb, 0, in_tuple_shape)\n",
        "x = xops.GetTupleElement(tup,0)\n",
        "\n",
        "const0 = xops.Constant(tcb, np.uint64(times))\n",
        "# y = xops.Gt(const0, x)\n",
        "y = xops.Eq(const0, const0)\n",
        "testalgo = tcb.Build()"
      ],
      "execution_count": null,
      "outputs": []
    },
    {
      "cell_type": "code",
      "metadata": {
        "id": "Wn7X4J6rhAXj"
      },
      "source": [
        "wcb = xc.XlaBuilder(\"whilealgo\")\n",
        "hashes = xops.Parameter(wcb, 0, param_shape2)\n",
        "counter = xops.Parameter(wcb, 1, param_shape2)\n",
        "records = [hashes,counter]\n",
        "for x in range(25):\n",
        "    records.append(xops.Parameter(wcb, x+2, param_shape))\n",
        "# mixedTuple = xc.Shape.Tuple(counter,xc.Shape.tuple_shape(x))\n",
        "res = xops.Tuple(wcb,records)\n",
        "# res = xops.Tuple(wcb,[counter,b])\n",
        "xops.While(testalgo, processalgo, res)\n",
        "wce = wcb.build()"
      ],
      "execution_count": null,
      "outputs": []
    },
    {
      "cell_type": "code",
      "metadata": {
        "colab": {
          "base_uri": "https://localhost:8080/"
        },
        "id": "bU6mM74xMMim",
        "outputId": "1a93fa91-2549-47b0-cce8-04f99907487e"
      },
      "source": [
        "run(wcb,batch=batch,build=wce)\n",
        "\n",
        "# Several Rounds at a time Run"
      ],
      "execution_count": null,
      "outputs": [
        {
          "output_type": "stream",
          "text": [
            "Evalving\n",
            "Started\n"
          ],
          "name": "stdout"
        }
      ]
    },
    {
      "cell_type": "code",
      "metadata": {
        "colab": {
          "base_uri": "https://localhost:8080/"
        },
        "id": "H4sh3u2ENZ65",
        "outputId": "19e69d53-ec5f-43f7-f62c-d66418ca3ad2"
      },
      "source": [
        "(500,000,000,000),(512,274,772,381)\n",
        "659000000\n",
        "2,147,483,647"
      ],
      "execution_count": null,
      "outputs": [
        {
          "output_type": "execute_result",
          "data": {
            "text/plain": [
              "659000000"
            ]
          },
          "metadata": {
            "tags": []
          },
          "execution_count": 89
        }
      ]
    },
    {
      "cell_type": "code",
      "metadata": {
        "id": "rqxA029e7DwM",
        "colab": {
          "base_uri": "https://localhost:8080/"
        },
        "outputId": "0b49383a-ae5a-48f9-960e-53a4fd572719"
      },
      "source": [
        "miner = xc.XlaBuilder(\"Main Function\")\n",
        "batch=100000000\n",
        "batch=100000\n",
        "# Constants\n",
        "KeccakRoundConstants = [xops.Constant(miner, dtype(0x000000000000800A))]\n",
        "Template = xops.Constant(miner, dtype(12312123213))\n",
        "\n",
        "pi_shifter = [0, 6, 12, 18, 24, 3, 9, 10, 16, 22, 1, 7, 13, 19, 20, 4, 5, 11, 17, 23, 2, 8, 14, 15, 21]\n",
        "\n",
        "param_shape = xc.Shape.array_shape(np.dtype(dtype),(batch,))\n",
        "\n",
        "state = []\n",
        "for x in range(25):\n",
        "    state.append(xops.Parameter(miner,x,param_shape))\n",
        "\n",
        "# Custom Constants\n",
        "C = [0 for x in range(5)]\n",
        "\n",
        "\n",
        "# Theta Function\n",
        "for x in range(5):\n",
        "    C[x] = state[index(x,0)]\n",
        "    for y in range(1,5):\n",
        "        C[x]=xops.Xor(state[index(x,y)],C[x])\n",
        "D = listRoll(C)\n",
        "# push(C,1)\n",
        "for x in range(5):\n",
        "    for y in range(5):\n",
        "        state[index(x,y)]=xops.Xor(state[index(x,y)],xops.Xor(D[(x+1)%5],C[(x+4)%5]))\n",
        "# print(state)\n",
        "\n",
        "# Rho Function\n",
        "rhoROL64(state)\n",
        "# print(state)\n",
        "# Pi Function\n",
        "rearrange(state,pi_shifter)\n",
        "# print(state)\n",
        "# Chi Function\n",
        "\n",
        "for y in range(5):\n",
        "    for x in range(5):\n",
        "        C[x] = xops.And(xops.Xor(state[index(x, y)],xops.Not((state[index(x+1, y)]))),state[index(x+2, y)])\n",
        "    for x in range(5):\n",
        "        state[index(x,y)] = C[x]\n",
        "# print(state)\n",
        "# Iota\n",
        "state[0]=xops.Xor(state[0],KeccakRoundConstants[0])\n",
        "# print(state)\n",
        "\n",
        "# Output\n",
        "out = xops.Tuple(miner,state)\n",
        "\n",
        "run(miner,batch=batch)"
      ],
      "execution_count": null,
      "outputs": [
        {
          "output_type": "stream",
          "text": [
            "Evalving\n",
            "Started\n",
            "2,243,727,995,928,439.5\n",
            "[-1776246494   270532736 -1030676150 ...  1761780038   814486345\n",
            "   178323546]\n"
          ],
          "name": "stdout"
        }
      ]
    },
    {
      "cell_type": "code",
      "metadata": {
        "colab": {
          "base_uri": "https://localhost:8080/"
        },
        "id": "2vRPA_uZRavH",
        "outputId": "f8524390-079d-47d3-e007-3599abb26d51"
      },
      "source": [
        "run(miner,batch=batch)"
      ],
      "execution_count": null,
      "outputs": [
        {
          "output_type": "stream",
          "text": [
            "[DeviceArray(0, dtype=uint64), DeviceArray(1, dtype=uint64), DeviceArray(1, dtype=uint64)]\n"
          ],
          "name": "stdout"
        },
        {
          "output_type": "execute_result",
          "data": {
            "text/plain": [
              "array(0, dtype=uint64)"
            ]
          },
          "metadata": {
            "tags": []
          },
          "execution_count": 10
        }
      ]
    },
    {
      "cell_type": "code",
      "metadata": {
        "colab": {
          "base_uri": "https://localhost:8080/"
        },
        "id": "E_O3QdtKto2L",
        "outputId": "9901db7e-1dde-4d7b-cb2b-24a08d1d5f2d"
      },
      "source": [
        "Xsqr = 2\n",
        "\n",
        "guess = 1.0\n",
        "converged_delta = 0.001\n",
        "maxit = 1000\n",
        "\n",
        "in_shape_0 = xc.Shape.array_shape(np.dtype(np.float32), ())\n",
        "in_shape_1 = xc.Shape.array_shape(np.dtype(np.float32), ())\n",
        "in_shape_2 = xc.Shape.array_shape(np.dtype(np.int32), ())\n",
        "in_tuple_shape = xc.Shape.tuple_shape([in_shape_0, in_shape_1, in_shape_2])\n",
        "\n",
        "# body computation:\n",
        "# x_{i+1} = x_i - (x_i**2 - y) / (2 * x_i)\n",
        "bcb = xc.XlaBuilder(\"bodycomp\")\n",
        "intuple = xops.Parameter(bcb, 0, in_tuple_shape)\n",
        "y = xops.GetTupleElement(intuple, 0)\n",
        "x = xops.GetTupleElement(intuple, 1)\n",
        "guard_cntr = xops.GetTupleElement(intuple, 2)\n",
        "new_x = xops.Sub(x, xops.Div(xops.Sub(xops.Mul(x, x), y), xops.Add(x, x)))\n",
        "result = xops.Tuple(bcb, [y, new_x, xops.Sub(guard_cntr, xops.Constant(bcb, np.int32(1)))])\n",
        "body_computation = bcb.Build()\n",
        "\n",
        "# test computation -- convergence and max iteration test\n",
        "tcb = xc.XlaBuilder(\"testcomp\")\n",
        "intuple = xops.Parameter(tcb, 0, in_tuple_shape)\n",
        "y = xops.GetTupleElement(intuple, 0)\n",
        "x = xops.GetTupleElement(intuple, 1)\n",
        "guard_cntr = xops.GetTupleElement(intuple, 2)\n",
        "criterion = xops.Abs(xops.Sub(xops.Mul(x, x), y))\n",
        "# stop at convergence criteria or too many iterations\n",
        "test = xops.And(xops.Gt(criterion, xops.Constant(tcb, np.float32(converged_delta))), \n",
        "               xops.Gt(guard_cntr, xops.Constant(tcb, np.int32(0))))\n",
        "test_computation = tcb.Build()\n",
        "\n",
        "# while computation:\n",
        "# since jax does not allow users to create a tuple input directly, we need to\n",
        "# take multiple parameters and make a intermediate tuple before feeding it as\n",
        "# an initial carry to while loop\n",
        "wcb = xc.XlaBuilder(\"whilecomp\")\n",
        "y = xops.Parameter(wcb, 0, in_shape_0)\n",
        "x = xops.Parameter(wcb, 1, in_shape_1)\n",
        "guard_cntr = xops.Parameter(wcb, 2, in_shape_2)\n",
        "tuple_init_carry = xops.Tuple(wcb, [y, x, guard_cntr])\n",
        "xops.While(test_computation, body_computation, tuple_init_carry)\n",
        "while_computation = wcb.Build()\n",
        "\n",
        "# Now compile and execute:\n",
        "cpu_backend = xc.get_local_backend(\"cpu\")\n",
        "\n",
        "# compile graph based on shape\n",
        "compiled_computation = cpu_backend.compile(while_computation)\n",
        "\n",
        "y = np.array(Xsqr, dtype=np.float32)\n",
        "x = np.array(guess, dtype=np.float32)\n",
        "maxit = np.array(maxit, dtype=np.int32)\n",
        "\n",
        "device_input_y = cpu_backend.buffer_from_pyval(y)\n",
        "device_input_x = cpu_backend.buffer_from_pyval(x)\n",
        "device_input_maxit = cpu_backend.buffer_from_pyval(maxit)\n",
        "device_out = compiled_computation.execute([device_input_y, device_input_x, device_input_maxit])\n",
        "\n",
        "# retrive the result\n",
        "print(device_out)\n",
        "print(\"square root of {y} is {x}\".format(y=y, x=device_out[1].to_py()))"
      ],
      "execution_count": null,
      "outputs": [
        {
          "output_type": "stream",
          "text": [
            "[DeviceArray(2., dtype=float32), DeviceArray(1.4142157, dtype=float32), DeviceArray(997, dtype=int32)]\n",
            "square root of 2.0 is 1.4142156839370728\n"
          ],
          "name": "stdout"
        }
      ]
    }
  ]
}