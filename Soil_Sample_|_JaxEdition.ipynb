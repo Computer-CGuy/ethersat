{
  "nbformat": 4,
  "nbformat_minor": 0,
  "metadata": {
    "colab": {
      "name": "Soil Sample | JaxEdition.ipynb",
      "provenance": [],
      "authorship_tag": "ABX9TyMh3MK5S7WdZzLLjE0wNELG",
      "include_colab_link": true
    },
    "kernelspec": {
      "name": "python3",
      "display_name": "Python 3"
    },
    "language_info": {
      "name": "python"
    }
  },
  "cells": [
    {
      "cell_type": "markdown",
      "metadata": {
        "id": "view-in-github",
        "colab_type": "text"
      },
      "source": [
        "<a href=\"https://colab.research.google.com/github/Computer-CGuy/etherpaisahipaisa/blob/master/Soil_Sample_%7C_JaxEdition.ipynb\" target=\"_parent\"><img src=\"https://colab.research.google.com/assets/colab-badge.svg\" alt=\"Open In Colab\"/></a>"
      ]
    },
    {
      "cell_type": "code",
      "metadata": {
        "id": "aWElSvToK931"
      },
      "source": [
        "import jax\n",
        "import numpy as np"
      ],
      "execution_count": 1,
      "outputs": []
    },
    {
      "cell_type": "code",
      "metadata": {
        "id": "wblgCg9oPp1o"
      },
      "source": [
        "FNV_PRIME = 0x01000193\n",
        "\n",
        "def fnv(v1, v2):\n",
        "    return ((v1 * FNV_PRIME) ^ v2) % 2**32"
      ],
      "execution_count": 2,
      "outputs": []
    },
    {
      "cell_type": "code",
      "metadata": {
        "id": "CP1ty0osP7xk"
      },
      "source": [
        "dataset = np.random.randint(low=0,high=9999,size=(255,32))\n",
        "w = 255\n",
        "mix = np.random.randint(low=0,high=9999,size=(32*2,))\n",
        "mixhashes = 4\n",
        "n = mixhashes*12"
      ],
      "execution_count": 3,
      "outputs": []
    },
    {
      "cell_type": "code",
      "metadata": {
        "id": "mIVFFlq1RGeS",
        "colab": {
          "base_uri": "https://localhost:8080/"
        },
        "outputId": "62a402ef-ac63-4db5-8c08-14a0ecf21d64"
      },
      "source": [
        "dataset[0]"
      ],
      "execution_count": 4,
      "outputs": [
        {
          "output_type": "execute_result",
          "data": {
            "text/plain": [
              "array([1473, 8840, 2326, 4862, 4376,  887, 4743, 1791, 8219, 7335,  263,\n",
              "       9827, 9546, 9938, 8337, 1942, 9372, 4061, 2186, 5250, 6987, 5699,\n",
              "       3379, 2987, 9747,  805,   57, 5341, 2605, 9086, 5538, 8911])"
            ]
          },
          "metadata": {
            "tags": []
          },
          "execution_count": 4
        }
      ]
    },
    {
      "cell_type": "code",
      "metadata": {
        "id": "j_xCwfF_Pz0F"
      },
      "source": [
        "def dataset_lookup(i):\n",
        "    global dataset\n",
        "    return dataset[i%255]"
      ],
      "execution_count": 5,
      "outputs": []
    },
    {
      "cell_type": "code",
      "metadata": {
        "colab": {
          "base_uri": "https://localhost:8080/",
          "height": 163
        },
        "id": "2K4IMPDFh2fN",
        "outputId": "ab7ec080-a13d-4073-bab5-15b3075fb8ea"
      },
      "source": [
        "fnv(i ^ 255, mix[i % 4]) % (n // mixhashes) * mixhashes"
      ],
      "execution_count": 6,
      "outputs": [
        {
          "output_type": "error",
          "ename": "NameError",
          "evalue": "ignored",
          "traceback": [
            "\u001b[0;31m---------------------------------------------------------------------------\u001b[0m",
            "\u001b[0;31mNameError\u001b[0m                                 Traceback (most recent call last)",
            "\u001b[0;32m<ipython-input-6-af34af55f782>\u001b[0m in \u001b[0;36m<module>\u001b[0;34m()\u001b[0m\n\u001b[0;32m----> 1\u001b[0;31m \u001b[0mfnv\u001b[0m\u001b[0;34m(\u001b[0m\u001b[0mi\u001b[0m \u001b[0;34m^\u001b[0m \u001b[0;36m255\u001b[0m\u001b[0;34m,\u001b[0m \u001b[0mmix\u001b[0m\u001b[0;34m[\u001b[0m\u001b[0mi\u001b[0m \u001b[0;34m%\u001b[0m \u001b[0;36m4\u001b[0m\u001b[0;34m]\u001b[0m\u001b[0;34m)\u001b[0m \u001b[0;34m%\u001b[0m \u001b[0;34m(\u001b[0m\u001b[0mn\u001b[0m \u001b[0;34m//\u001b[0m \u001b[0mmixhashes\u001b[0m\u001b[0;34m)\u001b[0m \u001b[0;34m*\u001b[0m \u001b[0mmixhashes\u001b[0m\u001b[0;34m\u001b[0m\u001b[0;34m\u001b[0m\u001b[0m\n\u001b[0m",
            "\u001b[0;31mNameError\u001b[0m: name 'i' is not defined"
          ]
        }
      ]
    },
    {
      "cell_type": "code",
      "metadata": {
        "id": "itxUJVY6vV3B"
      },
      "source": [
        "\n",
        "mix = np.random.randint(low=0,high=9999,size=(32*2,))\n",
        "for i in range(64):\n",
        "    p = fnv(i ^ 255, mix[i % 4]) % (n // mixhashes) * mixhashes\n",
        "    newdata = np.concatenate((dataset[p],dataset[p+1]))\n",
        "    # print(p)\n",
        "    # for j in range(2):\n",
        "        # newdata.extend(dataset_lookup(p + j)))\n",
        "    mix = fnv(mix,newdata)#list(map(fnv, mix, newdata))"
      ],
      "execution_count": null,
      "outputs": []
    },
    {
      "cell_type": "code",
      "metadata": {
        "colab": {
          "base_uri": "https://localhost:8080/"
        },
        "id": "8M67JR59hr42",
        "outputId": "68c99218-a73b-4682-91be-f306c9158bfe"
      },
      "source": [
        "mix"
      ],
      "execution_count": null,
      "outputs": [
        {
          "output_type": "execute_result",
          "data": {
            "text/plain": [
              "array([3985079747, 1346983403, 1981568548, 1526319506, 2440194780,\n",
              "       2757403039, 1238499430,  693978502, 1521365153, 1362517488,\n",
              "        908417300, 2527320840, 1692219344, 4142246857, 2035723597,\n",
              "       3673645746, 3694542588, 3350711610, 3920101748,  400326498,\n",
              "       2441177567, 2542937078, 2537479304,  613273986,  380289098,\n",
              "       3549577916, 2314743346, 1847837534, 2947075273, 3658211542,\n",
              "       1901587902,  152269474, 3045458365, 2625950910, 2089250360,\n",
              "       3732686165, 1743174506,  327231384, 2150551196, 1767836360,\n",
              "       3289714304, 3780473959, 2292005251, 3141028232,  467145413,\n",
              "       2603302246, 1649134025,  667225354, 2808328843,  630141566,\n",
              "       2064213168, 1820392178,  934347014, 1585877621, 2148839595,\n",
              "       3880023372, 1436153271,  365523700, 2813845128, 3962716669,\n",
              "        856371812, 2521896176,  483345370, 3561152656])"
            ]
          },
          "metadata": {
            "tags": []
          },
          "execution_count": 41
        }
      ]
    },
    {
      "cell_type": "code",
      "metadata": {
        "colab": {
          "base_uri": "https://localhost:8080/"
        },
        "id": "jzLNf2DghkH8",
        "outputId": "6d5308d2-3d7e-4048-8612-e46ca877e2b3"
      },
      "source": [
        "dataset[0]"
      ],
      "execution_count": null,
      "outputs": [
        {
          "output_type": "execute_result",
          "data": {
            "text/plain": [
              "array([1160, 1892, 5093, 8250, 1250, 4532, 2870, 4920, 7707, 4614, 2763,\n",
              "       5595, 8953, 3948, 6445, 7570, 7391, 3969, 5648, 5623, 2919, 6589,\n",
              "       9618,  611, 3237, 4851, 8215, 7484, 1904, 9287, 8098, 6465])"
            ]
          },
          "metadata": {
            "tags": []
          },
          "execution_count": 32
        }
      ]
    },
    {
      "cell_type": "code",
      "metadata": {
        "id": "6cDrT8Z4SGwG",
        "colab": {
          "base_uri": "https://localhost:8080/"
        },
        "outputId": "2f547cd7-218b-4604-d253-3c53314abdb2"
      },
      "source": [
        "p=0\n",
        "np.concatenate((dataset[p],dataset[p+1]))"
      ],
      "execution_count": null,
      "outputs": [
        {
          "output_type": "execute_result",
          "data": {
            "text/plain": [
              "array([1160, 1892, 5093, 8250, 1250, 4532, 2870, 4920, 7707, 4614, 2763,\n",
              "       5595, 8953, 3948, 6445, 7570, 7391, 3969, 5648, 5623, 2919, 6589,\n",
              "       9618,  611, 3237, 4851, 8215, 7484, 1904, 9287, 8098, 6465, 1389,\n",
              "       1191, 1714, 2925, 8183, 5855, 9590, 9294, 1595, 2251, 1473, 4376,\n",
              "       5505, 1595,  978, 3816, 8507, 6548, 9773, 4088, 6597, 9379, 8745,\n",
              "       1485, 5831, 5195, 7264, 3479, 3131, 6429,  300, 4291])"
            ]
          },
          "metadata": {
            "tags": []
          },
          "execution_count": 33
        }
      ]
    }
  ]
}