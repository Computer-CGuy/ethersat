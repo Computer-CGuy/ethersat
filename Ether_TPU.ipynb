{
  "nbformat": 4,
  "nbformat_minor": 0,
  "metadata": {
    "colab": {
      "name": "Ether TPU.ipynb",
      "provenance": [],
      "collapsed_sections": [],
      "authorship_tag": "ABX9TyPJHmaIQKfsnOUk1YuGFIap",
      "include_colab_link": true
    },
    "kernelspec": {
      "name": "python3",
      "display_name": "Python 3"
    },
    "language_info": {
      "name": "python"
    },
    "accelerator": "TPU"
  },
  "cells": [
    {
      "cell_type": "markdown",
      "metadata": {
        "id": "view-in-github",
        "colab_type": "text"
      },
      "source": [
        "<a href=\"https://colab.research.google.com/github/Computer-CGuy/etherpaisahipaisa/blob/master/Ether_TPU.ipynb\" target=\"_parent\"><img src=\"https://colab.research.google.com/assets/colab-badge.svg\" alt=\"Open In Colab\"/></a>"
      ]
    },
    {
      "cell_type": "code",
      "metadata": {
        "id": "Uf8CGAgemO0l"
      },
      "source": [
        "!pip install --quiet cloud-tpu-client==0.10 https://storage.googleapis.com/tpu-pytorch/wheels/torch_xla-1.8-cp37-cp37m-linux_x86_64.whl"
      ],
      "execution_count": 2,
      "outputs": []
    },
    {
      "cell_type": "code",
      "metadata": {
        "colab": {
          "base_uri": "https://localhost:8080/"
        },
        "id": "pNGhuJ-LmQ2t",
        "outputId": "cf551c86-3379-47fe-ba43-66f0c08dec90"
      },
      "source": [
        "import torch_xla\n",
        "import torch_xla.core.xla_model as xm"
      ],
      "execution_count": 3,
      "outputs": [
        {
          "output_type": "stream",
          "text": [
            "WARNING:root:TPU has started up successfully with version pytorch-1.8\n"
          ],
          "name": "stderr"
        }
      ]
    },
    {
      "cell_type": "code",
      "metadata": {
        "id": "YuIWt78gmR9_"
      },
      "source": [
        "# CORES = len(torch_xla.core.xla_model.get_xla_supported_devices())\n",
        "# print(\"Number of cores\",CORES)"
      ],
      "execution_count": 4,
      "outputs": []
    },
    {
      "cell_type": "code",
      "metadata": {
        "id": "6VCcnKCmD8wi"
      },
      "source": [
        "import torch\n",
        "import time"
      ],
      "execution_count": 5,
      "outputs": []
    },
    {
      "cell_type": "code",
      "metadata": {
        "colab": {
          "base_uri": "https://localhost:8080/"
        },
        "id": "47RtT668j_o4",
        "outputId": "fde64553-200a-44f8-890e-9bb79e5f167b"
      },
      "source": [
        "# device = torch.device(\"cuda\" if torch.cuda.is_available() else \"cpu\")\n",
        "device = xm.xla_device()\n",
        "print(\"Using\",str(device),\"as your PyTorch Device\")"
      ],
      "execution_count": 6,
      "outputs": [
        {
          "output_type": "stream",
          "text": [
            "Using xla:1 as your PyTorch Device\n"
          ],
          "name": "stdout"
        }
      ]
    },
    {
      "cell_type": "code",
      "metadata": {
        "id": "xCYjiZmqNWlM"
      },
      "source": [
        "ROUNDS = 24\n",
        "dtype = torch.long\n",
        "\n",
        "def ROL64(a,offset):\n",
        "    # p = torch.clone(a)\n",
        "    # # print(offset[1].shape)\n",
        "    # # print(p.shape)\n",
        "    # p/=(offset[1])\n",
        "    return ((a*offset[0]) ^ (a/offset[1]).long())\n",
        "\n",
        "def tu_ROL64(a,offset):\n",
        "    p = torch.clone(a)\n",
        "    print(offset[:,1].shape)\n",
        "    print(p.shape)\n",
        "    p/=(offset[:,1])\n",
        "    return ((a*offset[:,0]) ^ p)\n",
        "def index(x,y):\n",
        "    return (((x)%5)+5*((y)%5))"
      ],
      "execution_count": 7,
      "outputs": []
    },
    {
      "cell_type": "code",
      "metadata": {
        "id": "QBrziftZi3Wk"
      },
      "source": [
        "KeccakRoundConstants = torch.zeros((25), dtype=dtype).to(device)\n",
        "\n",
        "one = torch.LongTensor([1,2]).to(device)\n",
        "# KeccakRhoOffsets = torch.LongTensor([0 , 1 , 62, 28, 27, 36, 44, 6, 55, 20, 3, 10,43, 25, 39, 41, 45, 15, 21, 8, 18, 2, 61, 56, 14]).to(device)\n",
        "KeccakRhoOffsets = torch.ones([2,25,1],dtype=dtype).to(device)\n",
        "\n",
        "# For pi\n",
        "\n",
        "shift_pi = torch.zeros([25,25],dtype=torch.int64).to(device)\n",
        "l =[0,6,12,18,24,3,9,10,16,22,1,7,13,19,20,4,5,11,17,23,2,8,14,15,21]\n",
        "for g in range(25):\n",
        "\tshift_pi[g][l[g]]=1\n",
        "# shift_pi = shift_pi.to(device)"
      ],
      "execution_count": 8,
      "outputs": []
    },
    {
      "cell_type": "code",
      "metadata": {
        "id": "UBon4JULtz5F"
      },
      "source": [
        "# state = torch.zeros([25,batch],dtype=dtype)\n",
        "shift_pi= shift_pi.unsqueeze(2)"
      ],
      "execution_count": 9,
      "outputs": []
    },
    {
      "cell_type": "code",
      "metadata": {
        "id": "ldkVoRFni59y"
      },
      "source": [
        "def theta(A,C,D):\n",
        "    C[:] = 0\n",
        "    for x in range(5):\n",
        "      C[x]^=A[5*x:(x+1)*5]\n",
        "\n",
        "    #   for y in range(5):\n",
        "    #       C[x] ^= A[index(x, y)]\n",
        "    # torch.bitwise_xor(A[0::5]^A[1::5]^A[2::5]^A[3::5],A[4::5],out=C)\n",
        "    D = ROL64(C, one)\n",
        "    # print(C.shape)\n",
        "    # print(D.shape)\n",
        "    # print(A.shape)\n",
        "    for x in range(5):\n",
        "        # A[x,x+5]\n",
        "        for y in range(5):\n",
        "            # print(A[index(x, y)].shape)\n",
        "            # print(D[(x+1)%5].shape)\n",
        "            # print(C[(x+4)%5].shape)\n",
        "            A[index(x, y)] = A[index(x, y)]^D[(x+1)%5] ^ C[(x+4)%5]\n",
        "        # A[x::5] = A[x::5]^D[(x+1)%5] ^ C[(x+4)%5]\n",
        "\n",
        "def rho(A,C,D):\n",
        "    # for x in range(5):\n",
        "    #   for y in range(5):\n",
        "    A = ROL64(A, KeccakRhoOffsets)\n",
        "\n",
        "def pi(A,C,D):\n",
        "    # (A*shift_pi)\n",
        "    # torch.sum((A*shift_pi),axis=1,out=A)\n",
        "    # temp = torch.clone(A)\n",
        "    # for x in range(5):\n",
        "    #   for y in range(5):\n",
        "    #       A[index(0*x+1*y, 2*x+3*y)] = temp[index(x, y)]\n",
        "    # torch.tensordot(shift_pi,A,dims=1,out=A)\n",
        "    ret = (A.unsqueeze(1)*shift_pi)\n",
        "    A = ret[0]\n",
        "    for x in range(1,ROUNDS):\n",
        "        A+=ret[x]\n",
        "def chi(A,C,D):\n",
        "    for y in range(5):\n",
        "        for x in range(5):\n",
        "            C[x] = A[index(x, y)] ^ ((~A[index(x+1, y)]) & A[index(x+2, y)])\n",
        "        for x in range(5):\n",
        "            A[index(x, y)] = C[x]\n",
        "\n",
        "def iota(A,indexRound):\n",
        "    A[index(0, 0)] ^= KeccakRoundConstants[indexRound]\n",
        "\n",
        "def mine(state,C,D):\n",
        "    for i in range(ROUNDS):\n",
        "        theta(state,C,D)\n",
        "        rho(state,C,D)\n",
        "        pi(state,C,D)\n",
        "        chi(state,C,D)\n",
        "        iota(state, i)"
      ],
      "execution_count": 13,
      "outputs": []
    },
    {
      "cell_type": "code",
      "metadata": {
        "id": "CQybijRFi_5n",
        "colab": {
          "base_uri": "https://localhost:8080/"
        },
        "outputId": "cd857952-9fb5-4931-fc37-8dc92f9ce2cf"
      },
      "source": [
        "def mp_fn(index):\n",
        "    global batch\n",
        "    global t0\n",
        "    state = torch.zeros([25,batch],dtype=dtype).to(device)\n",
        "    C = torch.zeros([5,batch],dtype=dtype).to(device)\n",
        "    # C = torch.zeros([25,batch],dtype=dtype).to(device)\n",
        "    D = torch.clone(C)\n",
        "    # D = torch.zeros([25,batch],dtype=dtype).to(device)\n",
        "    t0= time.time()\n",
        "    mine(state, C, D)\n",
        "    print(state.shape)\n",
        "batch = 3000000\n",
        "t0 = time.time()\n",
        "\n",
        "print(f\"{batch:,}\")\n",
        "mp_fn(0)\n",
        "\n",
        "t1 = time.time() - t0\n",
        "t1/=batch\n",
        "print(f\"{1/t1:,}\")"
      ],
      "execution_count": null,
      "outputs": [
        {
          "output_type": "stream",
          "text": [
            "3,000,000\n"
          ],
          "name": "stdout"
        }
      ]
    },
    {
      "cell_type": "code",
      "metadata": {
        "colab": {
          "base_uri": "https://localhost:8080/"
        },
        "id": "-JJJOxipoD5f",
        "outputId": "4944c92b-3868-4008-b8fc-9810c8ca7ef5"
      },
      "source": [
        "import  torch_xla.debug.metrics as met\n",
        "\n",
        "print(met.metrics_report())"
      ],
      "execution_count": 9,
      "outputs": [
        {
          "output_type": "stream",
          "text": [
            "Metric: IrValueTensorToXlaData\n",
            "  TotalSamples: 4\n",
            "  Accumulator: 051ms466.171us\n",
            "  ValueRate: 03s947ms296.449us / second\n",
            "  Rate: 229.067 / second\n",
            "  Percentiles: 1%=005ms847.540us; 5%=005ms847.540us; 10%=005ms847.540us; 20%=005ms847.540us; 50%=005ms371.505us; 80%=036ms351.376us; 90%=036ms351.376us; 95%=036ms351.376us; 99%=036ms351.376us\n",
            "Metric: OutboundData\n",
            "  TotalSamples: 4\n",
            "  Accumulator: 5.48KB\n",
            "  ValueRate: 226.38KB / second\n",
            "  Rate: 165.105 / second\n",
            "  Percentiles: 1%=16.00B; 5%=16.00B; 10%=16.00B; 20%=16.00B; 50%=400.00B; 80%=4.88KB; 90%=4.88KB; 95%=4.88KB; 99%=4.88KB\n",
            "Metric: TransferToServerTime\n",
            "  TotalSamples: 4\n",
            "  Accumulator: 051ms386.220us\n",
            "  ValueRate: 03s939ms737.485us / second\n",
            "  Rate: 228.757 / second\n",
            "  Percentiles: 1%=005ms837.806us; 5%=005ms837.806us; 10%=005ms837.806us; 20%=005ms837.806us; 50%=005ms360.134us; 80%=036ms302.333us; 90%=036ms302.333us; 95%=036ms302.333us; 99%=036ms302.333us\n",
            "Metric: TransferToServerTransformTime\n",
            "  TotalSamples: 4\n",
            "  Accumulator: 022ms353.688us\n",
            "  ValueRate: 921ms058.833us / second\n",
            "  Rate: 164.816 / second\n",
            "  Percentiles: 1%=237.938us; 5%=237.938us; 10%=237.938us; 20%=237.938us; 50%=888.199us; 80%=021ms838.543us; 90%=021ms838.543us; 95%=021ms838.543us; 99%=021ms838.543us\n",
            "Counter: CreateDataHandles\n",
            "  Value: 4\n",
            "Counter: CreateXlaTensor\n",
            "  Value: 134\n",
            "Counter: DestroyXlaTensor\n",
            "  Value: 129\n",
            "Counter: XRTAllocateFromTensor_Empty\n",
            "  Value: 4\n",
            "Counter: XrtSessionCount\n",
            "  Value: 1\n",
            "Counter: xla::_copy_from\n",
            "  Value: 29\n",
            "Counter: xla::as_strided\n",
            "  Value: 4\n",
            "Counter: xla::empty\n",
            "  Value: 29\n",
            "Counter: xla::empty_strided\n",
            "  Value: 4\n",
            "Counter: xla::fill_\n",
            "  Value: 25\n",
            "Counter: xla::select\n",
            "  Value: 50\n",
            "Counter: xla::unsqueeze\n",
            "  Value: 1\n",
            "Metric: XrtAllocateFromTensor\n",
            "  TotalSamples: 11\n",
            "  Accumulator: 007ms548.454us\n",
            "  Mean: 595.314us\n",
            "  StdDev: 224.879us\n",
            "  Rate: 0.003785 / second\n",
            "  Percentiles: 25%=447.207us; 50%=547.080us; 80%=605.830us; 90%=673.922us; 95%=001ms265.293us; 99%=001ms265.293us\n",
            "Metric: XrtReleaseAllocation\n",
            "  TotalSamples: 2\n",
            "  Accumulator: 033.720us\n",
            "  Mean: 016.860us\n",
            "  StdDev: 002.735us\n",
            "  Rate: 104.277 / second\n",
            "  Percentiles: 25%=014.125us; 50%=019.595us; 80%=019.595us; 90%=019.595us; 95%=019.595us; 99%=019.595us\n",
            "\n"
          ],
          "name": "stdout"
        }
      ]
    }
  ]
}