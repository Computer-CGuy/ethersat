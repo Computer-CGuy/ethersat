{
  "nbformat": 4,
  "nbformat_minor": 0,
  "metadata": {
    "colab": {
      "name": "Ether TPU.ipynb",
      "provenance": [],
      "collapsed_sections": [],
      "authorship_tag": "ABX9TyNJ1lH58XROX22SWr5ALE+8",
      "include_colab_link": true
    },
    "kernelspec": {
      "name": "python3",
      "display_name": "Python 3"
    },
    "language_info": {
      "name": "python"
    },
    "accelerator": "TPU"
  },
  "cells": [
    {
      "cell_type": "markdown",
      "metadata": {
        "id": "view-in-github",
        "colab_type": "text"
      },
      "source": [
        "<a href=\"https://colab.research.google.com/github/Computer-CGuy/etherpaisahipaisa/blob/master/Ether_TPU.ipynb\" target=\"_parent\"><img src=\"https://colab.research.google.com/assets/colab-badge.svg\" alt=\"Open In Colab\"/></a>"
      ]
    },
    {
      "cell_type": "code",
      "metadata": {
        "colab": {
          "base_uri": "https://localhost:8080/"
        },
        "id": "Uf8CGAgemO0l",
        "outputId": "07cd19af-798d-4deb-8e48-ab727be24609"
      },
      "source": [
        "!pip install --quiet cloud-tpu-client==0.10 https://storage.googleapis.com/tpu-pytorch/wheels/torch_xla-1.8-cp37-cp37m-linux_x86_64.whl"
      ],
      "execution_count": 2,
      "outputs": [
        {
          "output_type": "stream",
          "text": [
            "\u001b[K     |████████████████████████████████| 144.6MB 64kB/s \n",
            "\u001b[K     |████████████████████████████████| 61kB 3.2MB/s \n",
            "\u001b[31mERROR: earthengine-api 0.1.260 has requirement google-api-python-client<2,>=1.12.1, but you'll have google-api-python-client 1.8.0 which is incompatible.\u001b[0m\n",
            "\u001b[?25h"
          ],
          "name": "stdout"
        }
      ]
    },
    {
      "cell_type": "code",
      "metadata": {
        "colab": {
          "base_uri": "https://localhost:8080/"
        },
        "id": "pNGhuJ-LmQ2t",
        "outputId": "d9b24bd2-c661-43d3-a4a7-0b2058f755d8"
      },
      "source": [
        "import torch_xla\n",
        "import torch_xla.core.xla_model as xm"
      ],
      "execution_count": 3,
      "outputs": [
        {
          "output_type": "stream",
          "text": [
            "WARNING:root:Waiting for TPU to be start up with version pytorch-1.8...\n",
            "WARNING:root:Waiting for TPU to be start up with version pytorch-1.8...\n",
            "WARNING:root:TPU has started up successfully with version pytorch-1.8\n"
          ],
          "name": "stderr"
        }
      ]
    },
    {
      "cell_type": "code",
      "metadata": {
        "id": "cdSZTQoq3aQV"
      },
      "source": [
        ""
      ],
      "execution_count": 3,
      "outputs": []
    },
    {
      "cell_type": "code",
      "metadata": {
        "id": "YuIWt78gmR9_"
      },
      "source": [
        "# CORES = len(torch_xla.core.xla_model.get_xla_supported_devices())\n",
        "# print(\"Number of cores\",CORES)"
      ],
      "execution_count": 4,
      "outputs": []
    },
    {
      "cell_type": "code",
      "metadata": {
        "id": "6VCcnKCmD8wi"
      },
      "source": [
        "import torch\n",
        "import time"
      ],
      "execution_count": 5,
      "outputs": []
    },
    {
      "cell_type": "code",
      "metadata": {
        "colab": {
          "base_uri": "https://localhost:8080/"
        },
        "id": "47RtT668j_o4",
        "outputId": "d6cf1324-fc2f-4875-cdf4-b356cc777fc5"
      },
      "source": [
        "# device = torch.device(\"cuda\" if torch.cuda.is_available() else \"cpu\")\n",
        "device = xm.xla_device()\n",
        "print(\"Using\",str(device),\"as your PyTorch Device\")"
      ],
      "execution_count": 6,
      "outputs": [
        {
          "output_type": "stream",
          "text": [
            "Using xla:1 as your PyTorch Device\n"
          ],
          "name": "stdout"
        }
      ]
    },
    {
      "cell_type": "code",
      "metadata": {
        "id": "uyUUfCZ2bzqJ"
      },
      "source": [
        ""
      ],
      "execution_count": 6,
      "outputs": []
    },
    {
      "cell_type": "code",
      "metadata": {
        "id": "xCYjiZmqNWlM"
      },
      "source": [
        "ROUNDS = 24\n",
        "dtype = torch.long\n",
        "\n",
        "def ROL64(a,offset):\n",
        "    # p = torch.clone(a)\n",
        "    # # print(offset[1].shape)\n",
        "    # # print(p.shape)\n",
        "    # p/=(offset[1])\n",
        "    return ((a*offset[0]) ^ (a/offset[1]).long())\n",
        "\n",
        "def tu_ROL64(a,offset):\n",
        "    p = torch.clone(a)\n",
        "    print(offset[:,1].shape)\n",
        "    print(p.shape)\n",
        "    p/=(offset[:,1])\n",
        "    return ((a*offset[:,0]) ^ p)\n",
        "def index(x,y):\n",
        "    return (((x)%5)+5*((y)%5))"
      ],
      "execution_count": 7,
      "outputs": []
    },
    {
      "cell_type": "code",
      "metadata": {
        "id": "QBrziftZi3Wk"
      },
      "source": [
        "KeccakRoundConstants = torch.zeros((25), dtype=dtype).to(device)\n",
        "\n",
        "one = torch.LongTensor([1,2]).to(device)\n",
        "# KeccakRhoOffsets = torch.LongTensor([0 , 1 , 62, 28, 27, 36, 44, 6, 55, 20, 3, 10,43, 25, 39, 41, 45, 15, 21, 8, 18, 2, 61, 56, 14]).to(device)\n",
        "KeccakRhoOffsets = torch.ones([2,25,1],dtype=dtype).to(device)\n",
        "\n",
        "# For pi\n",
        "\n",
        "shift_pi = torch.zeros([25,25],dtype=torch.int64).to(device)\n",
        "l =[0,6,12,18,24,3,9,10,16,22,1,7,13,19,20,4,5,11,17,23,2,8,14,15,21]\n",
        "for g in range(25):\n",
        "\tshift_pi[g][l[g]]=1\n",
        "shift_pi= shift_pi.unsqueeze(2)\n",
        "\n",
        "shift_pi5D = torch.zeros([5,5],dtype=torch.int64).to(device)\n",
        "l =[0,1,2,3,4]\n",
        "for g in range(5):\n",
        "\tshift_pi5D[g][l[g]]=1\n",
        "shift_pi5D= shift_pi5D.unsqueeze(2)\n",
        "\n"
      ],
      "execution_count": 8,
      "outputs": []
    },
    {
      "cell_type": "code",
      "metadata": {
        "id": "OZjysxCgsF3L"
      },
      "source": [
        ""
      ],
      "execution_count": 8,
      "outputs": []
    },
    {
      "cell_type": "code",
      "metadata": {
        "id": "UBon4JULtz5F"
      },
      "source": [
        "def tensorRoll5D(t,shift):\n",
        "    ret = (t*shift_pi5D)\n",
        "    return torch.sum(ret,dim=1)\n",
        "    # t = ret[0]\n",
        "    # for x in range(1,25):\n",
        "    #     t+=ret[x]\n",
        "    # return t"
      ],
      "execution_count": 9,
      "outputs": []
    },
    {
      "cell_type": "code",
      "metadata": {
        "id": "cZAkOMsjb10J"
      },
      "source": [
        "def tensorRoll(t,shift):\n",
        "    ret = (t*shift_pi)\n",
        "    return torch.sum(ret,dim=1)\n",
        "    t = ret[0]\n",
        "    for x in range(1,25):\n",
        "        t+=ret[x]\n",
        "    return t"
      ],
      "execution_count": 10,
      "outputs": []
    },
    {
      "cell_type": "code",
      "metadata": {
        "id": "ldkVoRFni59y"
      },
      "source": [
        "def theta(A,C,D):\n",
        "    \n",
        "    C[:] = 0\n",
        "    for x in range(5):\n",
        "      C^=A[5*x:(x+1)*5]\n",
        "    \n",
        "    #   for y in range(5):\n",
        "    #       C[x] ^= A[index(x, y)]\n",
        "    # torch.bitwise_xor(A[0::5]^A[1::5]^A[2::5]^A[3::5],A[4::5],out=C)\n",
        "    D = ROL64(C, one)\n",
        "    # print(D.shape)\n",
        "    # print(\"C\")\n",
        "    # # print((D[(x+1)%5]^C[(x+4)%5]).shape)\n",
        "    # # # print((A[5*x:5*(x+1)]^(D[(x+1)%5]^C[(x+4)%5])).shape)\n",
        "    # # return \n",
        "    # print(C.shape)\n",
        "    # print(D.shape)\n",
        "    # print(A.shape)\n",
        "    # D = torch.roll(D,1,dims=0)\n",
        "    # C = torch.roll(C,4,dims=0)\n",
        "    D = tensorRoll5D(D,1)\n",
        "    C = tensorRoll5D(D,4)\n",
        "    # A^=\n",
        "    for x in range(5):\n",
        "        A[5*x:5*(x+1)] = A[5*x:5*(x+1)]^D^C\n",
        "        # for y in range(5):\n",
        "        # #     # print(A[index(x, y)].shape)\n",
        "        # #     # print(D[(x+1)%5].shape)\n",
        "        # #     # print(C[(x+4)%5].shape)\n",
        "        #     A[index(y, x)] = A[index(y, x)]^D[(x+1)%5] ^ C[(x+4)%5]\n",
        "        # A[x::5] = A[x::5]^D[(x+1)%5] ^ C[(x+4)%5]\n",
        "\n",
        "def rho(A,C,D):\n",
        "    # for x in range(5):\n",
        "    #   for y in range(5):\n",
        "    A = ROL64(A, KeccakRhoOffsets)\n",
        "\n",
        "def pi(A,C,D):\n",
        "    # (A*shift_pi)\n",
        "    # torch.sum((A*shift_pi),axis=1,out=A)\n",
        "    # temp = torch.clone(A)\n",
        "    # for x in range(5):\n",
        "    #   for y in range(5):\n",
        "    #       A[index(0*x+1*y, 2*x+3*y)] = temp[index(x, y)]\n",
        "    # torch.tensordot(shift_pi,A,dims=1,out=A)\n",
        "    ret = (A*shift_pi)\n",
        "    # torch.sum\n",
        "    return torch.sum(ret,dim=1)\n",
        "    # A = ret[0]\n",
        "    # for x in range(1,25):\n",
        "    #     A+=ret[x]\n",
        "def chi(A,C,D):\n",
        "    for y in range(5):\n",
        "        C = (A^tensorRoll(~A,1) & tensorRoll(A,2))[5*(y):5*y+5]\n",
        "        # for x in range(5):\n",
        "        #     C[x] = A[index(y, x)] ^ ((~A[index(y, x+1)]) & A[index(y, x+2)])\n",
        "        # # for x in range(5):\n",
        "        A[5*y:5*(y+1)] = C\n",
        "\n",
        "def iota(A,indexRound):\n",
        "    A[0] ^= KeccakRoundConstants[indexRound]\n",
        "\n",
        "def mine(state,C,D):\n",
        "    for i in range(ROUNDS):\n",
        "        theta(state,C,D)\n",
        "        rho(state,C,D)\n",
        "        pi(state,C,D)\n",
        "        chi(state,C,D)\n",
        "        iota(state, i)\n",
        "        # theta(state,C,D)\n",
        "        # print(\"Theta\",time.time()-t2)\n",
        "        # t2 = time.time()\n",
        "        # rho(state,C,D)\n",
        "        # print(\"Rho\",time.time()-t2)\n",
        "        # t2 = time.time()\n",
        "        # pi(state,C,D)\n",
        "        # print(\"Pi\",time.time()-t2)\n",
        "        # t2 = time.time()\n",
        "        # chi(state,C,D)\n",
        "        # print(\"Chi\",time.time()-t2)\n",
        "        # t2 = time.time()\n",
        "        # iota(state, i)\n",
        "        # print(\"Iota\",time.time()-t2)\n",
        "        # t2 = time.time()\n"
      ],
      "execution_count": 11,
      "outputs": []
    },
    {
      "cell_type": "code",
      "metadata": {
        "id": "CQybijRFi_5n",
        "colab": {
          "base_uri": "https://localhost:8080/"
        },
        "outputId": "fa80840d-dc16-43e5-e5dd-cf354f3b7cce"
      },
      "source": [
        "def mp_fn(index):\n",
        "    global batch\n",
        "    global t0\n",
        "    state = torch.zeros([25,batch],dtype=dtype).to(device)\n",
        "    C = torch.zeros([5,batch],dtype=dtype).to(device)\n",
        "    # C = torch.zeros([25,batch],dtype=dtype).to(device)\n",
        "    D = torch.clone(C)\n",
        "    # D = torch.zeros([25,batch],dtype=dtype).to(device)\n",
        "    t0= time.time()\n",
        "    mine(state, C, D)\n",
        "    print(state.shape)\n",
        "batch = 3000000\n",
        "t0 = time.time()\n",
        "\n",
        "print(f\"{batch:,}\")\n",
        "mp_fn(0)\n",
        "\n",
        "t1 = time.time() - t0\n",
        "t1/=batch\n",
        "print(f\"{1/t1:,}\")"
      ],
      "execution_count": 12,
      "outputs": [
        {
          "output_type": "stream",
          "text": [
            "3,000,000\n",
            "torch.Size([25, 3000000])\n",
            "35,432,246.58290297\n"
          ],
          "name": "stdout"
        }
      ]
    },
    {
      "cell_type": "code",
      "metadata": {
        "id": "XeUT1k8Gxw9B"
      },
      "source": [
        ""
      ],
      "execution_count": null,
      "outputs": []
    },
    {
      "cell_type": "code",
      "metadata": {
        "colab": {
          "base_uri": "https://localhost:8080/"
        },
        "id": "-JJJOxipoD5f",
        "outputId": "4dd9aeb2-d6ce-42f0-a853-b64fa5721ee3"
      },
      "source": [
        "import  torch_xla.debug.metrics as met\n",
        "\n",
        "print(met.metrics_report())"
      ],
      "execution_count": 40,
      "outputs": [
        {
          "output_type": "stream",
          "text": [
            "Metric: CompileTime\n",
            "  TotalSamples: 52\n",
            "  Accumulator: 02s318ms172.436us\n",
            "  ValueRate: 910.103us / second\n",
            "  Rate: 0.0204149 / second\n",
            "  Percentiles: 1%=008ms499.100us; 5%=009ms632.799us; 10%=009ms032.350us; 20%=010ms016.534us; 50%=012ms772.237us; 80%=013ms701.875us; 90%=014ms870.028us; 95%=017ms231.120us; 99%=02s724ms227.384us\n",
            "Metric: DeviceLockWait\n",
            "  TotalSamples: 232\n",
            "  Accumulator: 810.743us\n",
            "  ValueRate: 000.318us / second\n",
            "  Rate: 0.0910208 / second\n",
            "  Percentiles: 1%=001.270us; 5%=001.400us; 10%=001.565us; 20%=001.786us; 50%=003.043us; 80%=003.800us; 90%=004.588us; 95%=005.363us; 99%=010.390us\n",
            "Metric: ExecuteTime\n",
            "  TotalSamples: 232\n",
            "  Accumulator: 695ms937.492us\n",
            "  ValueRate: 272.830us / second\n",
            "  Rate: 0.0910824 / second\n",
            "  Percentiles: 1%=002ms838.040us; 5%=002ms020.643us; 10%=002ms108.972us; 20%=002ms231.355us; 50%=003ms590.696us; 80%=003ms977.432us; 90%=003ms207.214us; 95%=004ms940.692us; 99%=012ms878.734us\n",
            "Metric: InboundData\n",
            "  TotalSamples: 232\n",
            "  Accumulator: 2.42KB\n",
            "  ValueRate: 0.97B / second\n",
            "  Rate: 0.0910826 / second\n",
            "  Percentiles: 1%=8.00B; 5%=8.00B; 10%=8.00B; 20%=8.00B; 50%=8.00B; 80%=16.00B; 90%=16.00B; 95%=16.00B; 99%=16.00B\n",
            "Metric: InputOutputAliasCount\n",
            "  TotalSamples: 35\n",
            "  Accumulator: 35.00\n",
            "  ValueRate: 0.01 / second\n",
            "  Rate: 0.0137317 / second\n",
            "  Percentiles: 1%=1.00; 5%=1.00; 10%=1.00; 20%=1.00; 50%=1.00; 80%=1.00; 90%=1.00; 95%=1.00; 99%=1.00\n",
            "Metric: IrValueTensorToXlaData\n",
            "  TotalSamples: 13\n",
            "  Accumulator: 10s398ms677.864us\n",
            "  ValueRate: 003ms356.289us / second\n",
            "  Rate: 0.0041963 / second\n",
            "  Percentiles: 1%=004ms857.641us; 5%=004ms857.641us; 10%=005ms744.033us; 20%=005ms958.850us; 50%=007ms910.739us; 80%=049ms390.067us; 90%=01s354ms194.030us; 95%=09s929ms563.514us; 99%=09s929ms563.514us\n",
            "Metric: OutboundData\n",
            "  TotalSamples: 13\n",
            "  Accumulator: 686.67MB\n",
            "  ValueRate: 226.97KB / second\n",
            "  Rate: 0.00419624 / second\n",
            "  Percentiles: 1%=16.00B; 5%=16.00B; 10%=20.00B; 20%=40.00B; 50%=200.00B; 80%=19.53KB; 90%=114.44MB; 95%=572.20MB; 99%=572.20MB\n",
            "Metric: ReleaseDataHandlesTime\n",
            "  TotalSamples: 235\n",
            "  Accumulator: 423ms709.828us\n",
            "  ValueRate: 144.597us / second\n",
            "  Rate: 0.0803866 / second\n",
            "  Percentiles: 1%=617.903us; 5%=700.198us; 10%=747.381us; 20%=828.864us; 50%=956.976us; 80%=001ms098.357us; 90%=001ms156.927us; 95%=001ms252.716us; 99%=002ms465.198us\n",
            "Metric: TensorsGraphSize\n",
            "  TotalSamples: 232\n",
            "  Accumulator: 1826.00\n",
            "  ValueRate: 0.72 / second\n",
            "  Rate: 0.0910821 / second\n",
            "  Percentiles: 1%=7.00; 5%=7.00; 10%=7.00; 20%=7.00; 50%=8.00; 80%=8.00; 90%=9.00; 95%=9.00; 99%=9.00\n",
            "Metric: TransferFromServerTime\n",
            "  TotalSamples: 232\n",
            "  Accumulator: 415ms886.974us\n",
            "  ValueRate: 162.884us / second\n",
            "  Rate: 0.0910826 / second\n",
            "  Percentiles: 1%=001ms249.661us; 5%=001ms322.097us; 10%=001ms418.269us; 20%=002ms517.961us; 50%=002ms742.788us; 80%=002ms977.803us; 90%=002ms082.269us; 95%=002ms141.987us; 99%=002ms481.911us\n",
            "Metric: TransferToServerTime\n",
            "  TotalSamples: 13\n",
            "  Accumulator: 10s397ms399.431us\n",
            "  ValueRate: 003ms356.199us / second\n",
            "  Rate: 0.0041963 / second\n",
            "  Percentiles: 1%=004ms837.830us; 5%=004ms837.830us; 10%=005ms732.266us; 20%=005ms947.740us; 50%=007ms868.772us; 80%=049ms355.556us; 90%=01s354ms183.899us; 95%=09s929ms536.403us; 99%=09s929ms536.403us\n",
            "Metric: TransferToServerTransformTime\n",
            "  TotalSamples: 13\n",
            "  Accumulator: 01s026ms883.857us\n",
            "  ValueRate: 331.143us / second\n",
            "  Rate: 0.00419624 / second\n",
            "  Percentiles: 1%=180.557us; 5%=180.557us; 10%=186.692us; 20%=235.505us; 50%=417.480us; 80%=005ms634.739us; 90%=039ms202.904us; 95%=975ms004.181us; 99%=975ms004.181us\n",
            "Counter: CachedCompile\n",
            "  Value: 180\n",
            "Counter: CreateCompileHandles\n",
            "  Value: 52\n",
            "Counter: CreateDataHandles\n",
            "  Value: 245\n",
            "Counter: CreateXlaTensor\n",
            "  Value: 42259\n",
            "Counter: DestroyDataHandles\n",
            "  Value: 235\n",
            "Counter: DestroyXlaTensor\n",
            "  Value: 42245\n",
            "Counter: ReleaseDataHandles\n",
            "  Value: 235\n",
            "Counter: UncachedCompile\n",
            "  Value: 52\n",
            "Counter: XRTAllocateFromTensor_Empty\n",
            "  Value: 12\n",
            "Counter: XrtCompile_Empty\n",
            "  Value: 256\n",
            "Counter: XrtExecuteChained_Empty\n",
            "  Value: 256\n",
            "Counter: XrtExecute_Empty\n",
            "  Value: 256\n",
            "Counter: XrtMemoryInfo_Empty\n",
            "  Value: 256\n",
            "Counter: XrtRead_Empty\n",
            "  Value: 256\n",
            "Counter: XrtReleaseAllocationHandle_Empty\n",
            "  Value: 256\n",
            "Counter: XrtReleaseCompileHandle_Empty\n",
            "  Value: 256\n",
            "Counter: XrtSessionCount\n",
            "  Value: 3\n",
            "Counter: XrtSubTuple_Empty\n",
            "  Value: 256\n",
            "Counter: aten::_local_scalar_dense\n",
            "  Value: 155\n",
            "Counter: xla::_copy_from\n",
            "  Value: 1747\n",
            "Counter: xla::add_\n",
            "  Value: 12672\n",
            "Counter: xla::as_strided\n",
            "  Value: 13\n",
            "Counter: xla::bitwise_and_out\n",
            "  Value: 240\n",
            "Counter: xla::bitwise_not_out\n",
            "  Value: 240\n",
            "Counter: xla::bitwise_xor_out\n",
            "  Value: 3024\n",
            "Counter: xla::clone\n",
            "  Value: 9\n",
            "Counter: xla::constant_pad_nd\n",
            "  Value: 4\n",
            "Counter: xla::div\n",
            "  Value: 96\n",
            "Counter: xla::empty\n",
            "  Value: 3398\n",
            "Counter: xla::empty_strided\n",
            "  Value: 13\n",
            "Counter: xla::expand\n",
            "  Value: 48\n",
            "Counter: xla::fill_\n",
            "  Value: 73\n",
            "Counter: xla::mul\n",
            "  Value: 624\n",
            "Counter: xla::select\n",
            "  Value: 18461\n",
            "Counter: xla::slice\n",
            "  Value: 768\n",
            "Counter: xla::sum\n",
            "  Value: 1\n",
            "Counter: xla::unbind\n",
            "  Value: 17\n",
            "Counter: xla::unsqueeze\n",
            "  Value: 1\n",
            "Counter: xla::view\n",
            "  Value: 65\n",
            "Metric: XrtAllocateFromTensor\n",
            "  TotalSamples: 13\n",
            "  Accumulator: 01s478ms286.987us\n",
            "  Mean: 114ms714.384us\n",
            "  StdDev: 353ms948.305us\n",
            "  Rate: 0.00419616 / second\n",
            "  Percentiles: 25%=539.184us; 50%=590.731us; 80%=826.313us; 90%=142ms214.386us; 95%=01s329ms404.375us; 99%=01s329ms404.375us\n",
            "Metric: XrtCompile\n",
            "  TotalSamples: 52\n",
            "  Accumulator: 02s218ms073.802us\n",
            "  Mean: 043ms655.265us\n",
            "  StdDev: 234ms853.090us\n",
            "  Rate: 0.0204137 / second\n",
            "  Percentiles: 25%=009ms703.818us; 50%=010ms358.693us; 80%=011ms110.414us; 90%=012ms959.219us; 95%=012ms463.616us; 99%=02s713ms661.918us\n",
            "Metric: XrtExecute\n",
            "  TotalSamples: 232\n",
            "  Accumulator: 300ms770.844us\n",
            "  Mean: 001ms292.116us\n",
            "  StdDev: 271.381us\n",
            "  Rate: 0.091077 / second\n",
            "  Percentiles: 25%=001ms096.163us; 50%=001ms284.884us; 80%=001ms492.535us; 90%=002ms656.321us; 95%=002ms760.082us; 99%=002ms996.860us\n",
            "Metric: XrtExecutorEvict\n",
            "  TotalSamples: 0\n",
            "  Accumulator: nanB\n",
            "  Mean: nanB\n",
            "  StdDev: nanB\n",
            "  Percentiles: \n",
            "Metric: XrtReadLiteral\n",
            "  TotalSamples: 232\n",
            "  Accumulator: 130ms891.205us\n",
            "  Mean: 559.876us\n",
            "  StdDev: 136.953us\n",
            "  Rate: 0.0910772 / second\n",
            "  Percentiles: 25%=487.272us; 50%=552.015us; 80%=649.672us; 90%=736.050us; 95%=816.869us; 99%=941.687us\n",
            "Metric: XrtReleaseAllocation\n",
            "  TotalSamples: 235\n",
            "  Accumulator: 005ms073.303us\n",
            "  Mean: 021.589us\n",
            "  StdDev: 006.729us\n",
            "  Rate: 0.0803833 / second\n",
            "  Percentiles: 25%=017.299us; 50%=019.631us; 80%=024.789us; 90%=029.459us; 95%=035.229us; 99%=047.210us\n",
            "\n"
          ],
          "name": "stdout"
        }
      ]
    }
  ]
}